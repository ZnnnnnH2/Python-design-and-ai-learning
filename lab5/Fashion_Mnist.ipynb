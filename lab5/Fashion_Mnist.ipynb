{
 "cells": [
  {
   "cell_type": "markdown",
   "metadata": {},
   "source": [
    "### Discription: Fashion Mnist 图像分类"
   ]
  },
  {
   "cell_type": "code",
   "metadata": {
    "ExecuteTime": {
     "end_time": "2025-05-26T12:44:16.008486Z",
     "start_time": "2025-05-26T12:44:13.533706Z"
    }
   },
   "source": [
    "import os\n",
    "import gzip\n",
    "import numpy as np\n",
    "from PIL import Image\n",
    "\n",
    "import torch\n",
    "import torchvision\n",
    "from torch.utils.data import Dataset, DataLoader\n",
    "import torch.nn as nn\n",
    "import torch.nn.functional as F\n",
    "import torch.optim as optim\n",
    "from torchvision import transforms\n",
    "\n",
    "import numpy as np\n",
    "import matplotlib.pyplot as plt\n",
    "%matplotlib inline\n",
    "\n",
    "\n",
    "import warnings\n",
    "\n",
    "warnings.filterwarnings('ignore')"
   ],
   "outputs": [],
   "execution_count": 1
  },
  {
   "metadata": {
    "ExecuteTime": {
     "end_time": "2025-05-26T12:44:16.463704Z",
     "start_time": "2025-05-26T12:44:16.111862Z"
    }
   },
   "cell_type": "code",
   "source": "print(torch.cuda.is_available())",
   "outputs": [
    {
     "name": "stdout",
     "output_type": "stream",
     "text": [
      "True\n"
     ]
    }
   ],
   "execution_count": 2
  },
  {
   "cell_type": "code",
   "metadata": {
    "ExecuteTime": {
     "end_time": "2025-05-26T12:44:16.486182Z",
     "start_time": "2025-05-26T12:44:16.478787Z"
    }
   },
   "source": [
    "class FashionDataset(Dataset):\n",
    "\t'''\n",
    "    定义Dataset:\n",
    "    - 用于加载训练和测试数据，请勿改动\n",
    "    - 返回一张图片(3维Tensor)以及对应的标签(0-9)\n",
    "    '''\n",
    "\n",
    "\tdef __init__(self, datadir, transform, is_train=True):\n",
    "\t\tsuper().__init__()\n",
    "\t\tself.datadir = datadir\n",
    "\t\tself.img, self.label = self.load_data(self.datadir, is_train=is_train)\n",
    "\t\tself.len_data = len(self.img)\n",
    "\t\tself.transform = transform\n",
    "\n",
    "\tdef __getitem__(self, index):\n",
    "\t\treturn self.transform(self.img[index]), self.label[index]\n",
    "\n",
    "\tdef __len__(self):\n",
    "\t\treturn self.len_data\n",
    "\n",
    "\tdef load_data(self, datadir, is_train):\n",
    "\t\tdirname = os.path.join(datadir)\n",
    "\t\tfiles = ['train-labels-idx1-ubyte.gz', 'train-images-idx3-ubyte.gz',\n",
    "\t\t\t\t 't10k-labels-idx1-ubyte.gz', 't10k-images-idx3-ubyte.gz']\n",
    "\n",
    "\t\tpaths = []\n",
    "\t\tfor fname in files:\n",
    "\t\t\tpaths.append(os.path.join(dirname, fname))\n",
    "\t\tif is_train:\n",
    "\n",
    "\t\t\twith gzip.open(paths[0], 'rb') as lbpath:\n",
    "\t\t\t\tlabel = np.frombuffer(lbpath.read(), np.uint8, offset=8)\n",
    "\t\t\twith gzip.open(paths[1], 'rb') as imgpath:\n",
    "\t\t\t\timg = np.frombuffer(imgpath.read(), np.uint8,\n",
    "\t\t\t\t\t\t\t\t\toffset=16).reshape(len(label), 28, 28)\n",
    "\t\telse:\n",
    "\t\t\twith gzip.open(paths[2], 'rb') as lbpath:\n",
    "\t\t\t\tlabel = np.frombuffer(lbpath.read(), np.uint8, offset=8)\n",
    "\n",
    "\t\t\twith gzip.open(paths[3], 'rb') as imgpath:\n",
    "\t\t\t\timg = np.frombuffer(imgpath.read(), np.uint8,\n",
    "\t\t\t\t\t\t\t\t\toffset=16).reshape(len(label), 28, 28)\n",
    "\t\treturn img, label"
   ],
   "outputs": [],
   "execution_count": 3
  },
  {
   "cell_type": "code",
   "metadata": {
    "ExecuteTime": {
     "end_time": "2025-05-26T12:44:16.501055Z",
     "start_time": "2025-05-26T12:44:16.495985Z"
    }
   },
   "source": [
    "class FashionMnistModel(nn.Module):\n",
    "\tdef __init__(self):\n",
    "\t\t'''\n",
    "        ***********请在此写入你的代码**********\n",
    "        定义模型\n",
    "        '''\n",
    "\t\tsuper().__init__()\n",
    "\t\tself.conv1 = nn.Conv2d(1, 6, 5)\n",
    "\t\tself.pool1 = nn.MaxPool2d(2, 2)\n",
    "\t\tself.conv2 = nn.Conv2d(6, 16, 3)\n",
    "\t\tself.pool2 = nn.MaxPool2d(2, 2)\n",
    "\t\tself.linear1 = nn.Linear(16 * 5 * 5, 10)\n",
    "\t\t# self.linear2 = nn.Linear(64, 10)\n",
    "\t\tself.relu = nn.ReLU()\n",
    "\t\t# self.relu = nn.Sigmoid()\n",
    "\n",
    "\tdef forward(self, x):\n",
    "\t\t'''\n",
    "\t\t*********请在此处输入你的代码*********\n",
    "\t\t输入：input, 它的size是(batch_size, img_c, img_h, img_w)\n",
    "\t\t输出（返回值）：output(预测值)，hidden(隐藏层的值)\n",
    "\t\t\t* output的size是(batch_size, num_label)\n",
    "\n",
    "\t\t定义模型函数：\n",
    "\t\t\t* 将输入经过卷积层和激活函数\n",
    "\t\t\t* 使用pooling降低通道数\n",
    "\t\t\t* 对卷积层的输出做适当的维度变换\n",
    "\t\t\t* 用线性层将output映射到num_label的维度上\n",
    "\t\t\t* 返回output\n",
    "\t\t'''\n",
    "\t\tx = self.conv1(x)\n",
    "\t\tx = self.relu(x)\n",
    "\t\tx = self.pool1(x)\n",
    "\n",
    "\t\tx = self.conv2(x)\n",
    "\t\tx = self.relu(x)\n",
    "\t\tx = self.pool2(x)\n",
    "\n",
    "\t\tx = x.flatten(1)\n",
    "\n",
    "\t\tx = self.linear1(x)\n",
    "\t\t# x = self.relu(x)\n",
    "\t\t#\n",
    "\t\t# x = self.linear2(x)\n",
    "\t\treturn x\n"
   ],
   "outputs": [],
   "execution_count": 4
  },
  {
   "cell_type": "code",
   "metadata": {
    "ExecuteTime": {
     "end_time": "2025-05-26T12:44:16.518708Z",
     "start_time": "2025-05-26T12:44:16.513142Z"
    }
   },
   "source": [
    "class Model():\n",
    "\tdef __init__(self):\n",
    "\t\t'''\n",
    "        创建模型和优化器，设置模型超参数\n",
    "        * 参数\n",
    "            * learning_rate\n",
    "            * epoches\n",
    "            * model_save_path\n",
    "            * device: cuda or cpu\n",
    "        * 模型\n",
    "            * 创建FashionMnistModel的实例，命名为model\n",
    "            * 定义optimizer\n",
    "            * 定义loss function\n",
    "        '''\n",
    "\t\tself.lr = 0.01\n",
    "\t\tself.epoches = 20\n",
    "\t\tself.model_save_path = './model'\n",
    "\t\t# 指定训练的device，优先使用GPU，GPU不可用时加载CPU\n",
    "\t\tself.device = torch.device(\"cuda\" if torch.cuda.is_available() else \"cpu\")\n",
    "\t\tself.model = FashionMnistModel().to(self.device)\n",
    "\t\tself.optimizer = torch.optim.Adam(self.model.parameters(), lr=self.lr)\n",
    "\t\tself.loss_function = nn.CrossEntropyLoss()\n",
    "\n",
    "\tdef _save_model(self, epoch):\n",
    "\t\t\"\"\"\n",
    "        保存模型，用于训练时保存指定epoch的模型\n",
    "        \"\"\"\n",
    "\t\tprint('[INFO] Saving to %s/%s.pth' % (self.model_save_path, epoch))\n",
    "\t\ttorch.save(self.model.state_dict(), '%s/%s.pth' % (self.model_save_path, epoch))\n",
    "\n",
    "\tdef _load_model(self, epoch):\n",
    "\t\t\"\"\"\n",
    "        加载模型，用于加载指定epoch的模型。\n",
    "        目前代码中没有用到。\n",
    "        可以在训练到一半但中断了之后，自行修改代码，从最近的epoch加载，然后继续训练，以节省时间。\n",
    "        或者训练完毕后，下次再跑程序，就直接加载模型，省去训练时间。\n",
    "        \"\"\"\n",
    "\t\tprint('[INFO] Loading from %s_%s.pth' % (self.model_save_path, epoch))\n",
    "\t\tself.model.load_state_dict(torch.load('%s/%s.pth' % (self.model_save_path, epoch), map_location=self.device))\n",
    "\n",
    "\tdef train(self, train_loader, test_loader):\n",
    "\t\t'''\n",
    "        训练函数\n",
    "        '''\n",
    "\n",
    "\t\tfor epoch in range(self.epoches):\n",
    "\t\t\tloss_list = []\n",
    "\t\t\tfor batch_idx, (data, target) in enumerate(train_loader):\n",
    "\t\t\t\tdata, target = data.to(self.device), target.long().to(self.device)\n",
    "\t\t\t\tself.optimizer.zero_grad()\n",
    "\t\t\t\toutput = self.model(data)\n",
    "\t\t\t\tloss = self.loss_function(output, target)\n",
    "\t\t\t\tloss.backward()\n",
    "\t\t\t\tself.optimizer.step()\n",
    "\t\t\t\tloss_list.append(loss.item())\n",
    "\t\t\t\tif batch_idx % 50 == 0:\n",
    "\t\t\t\t\tprint('Train Epoch: {} [{}/{} ({:.0f}%)]\\tLoss: {:.6f}'.format(\n",
    "\t\t\t\t\t\tepoch, batch_idx * len(data), len(train_loader.dataset),\n",
    "\t\t\t\t\t\t\t   100. * batch_idx / len(train_loader), loss.item()))\n",
    "\t\t\tself.test(test_loader)\n",
    "\t\t\t# 保存模型参数\n",
    "\t\t\tif (epoch + 1) % 5 == 0:\n",
    "\t\t\t\tself._save_model(epoch + 1)\n",
    "\n",
    "\tdef test(self, test_loader):\n",
    "\t\t'''\n",
    "        检验模型测试集上的效果\n",
    "        '''\n",
    "\n",
    "\t\ttest_loss = 0\n",
    "\t\tcorrect = 0\n",
    "\t\twith torch.no_grad():\n",
    "\t\t\tfor data, target in test_loader:\n",
    "\t\t\t\tdata, target = data.to(self.device), target.long().to(self.device)\n",
    "\t\t\t\toutput = self.model(data)\n",
    "\t\t\t\ttest_loss += self.loss_function(output, target).item()  # sum up batch loss\n",
    "\t\t\t\tpred = output.argmax(dim=1, keepdim=True)  # get the index of the max log-probability\n",
    "\t\t\t\tcorrect += pred.eq(target.view_as(pred)).sum().item()\n",
    "\t\ttest_loss /= len(test_loader.dataset)\n",
    "\t\tprint('\\nTest set: Average loss: {:.4f}, Accuracy: {}/{} ({:.0f}%)\\n'.format(\n",
    "\t\t\ttest_loss, correct, len(test_loader.dataset),\n",
    "\t\t\t100. * correct / len(test_loader.dataset)))"
   ],
   "outputs": [],
   "execution_count": 5
  },
  {
   "cell_type": "code",
   "metadata": {
    "ExecuteTime": {
     "end_time": "2025-05-26T12:44:16.702787Z",
     "start_time": "2025-05-26T12:44:16.532234Z"
    }
   },
   "source": [
    "# 定义data loader\n",
    "train_dataset = FashionDataset('data',\n",
    "\t\t\t\t\t\t\t   transform=transforms.Compose([\n",
    "\t\t\t\t\t\t\t\t   transforms.ToTensor(),\n",
    "\t\t\t\t\t\t\t\t   transforms.Normalize((0.1307,), (0.3081,))\n",
    "\t\t\t\t\t\t\t   ])\n",
    "\t\t\t\t\t\t\t   )\n",
    "\n",
    "train_loader = DataLoader(train_dataset, batch_size=320, shuffle=True, num_workers=0)\n",
    "\n",
    "test_dataset = FashionDataset('data',\n",
    "\t\t\t\t\t\t\t  transform=transforms.Compose([\n",
    "\t\t\t\t\t\t\t\t  transforms.ToTensor(),\n",
    "\t\t\t\t\t\t\t\t  transforms.Normalize((0.1307,), (0.3081,))\n",
    "\t\t\t\t\t\t\t  ]),\n",
    "\t\t\t\t\t\t\t  is_train=False\n",
    "\t\t\t\t\t\t\t  )\n",
    "test_loader = DataLoader(test_dataset, batch_size=32, shuffle=False, num_workers=0)\n"
   ],
   "outputs": [],
   "execution_count": 6
  },
  {
   "cell_type": "code",
   "metadata": {
    "ExecuteTime": {
     "end_time": "2025-05-26T12:45:20.948293Z",
     "start_time": "2025-05-26T12:44:16.718865Z"
    }
   },
   "source": [
    "model = Model()\n",
    "# 模型训练\n",
    "model.train(train_loader, test_loader)"
   ],
   "outputs": [
    {
     "name": "stdout",
     "output_type": "stream",
     "text": [
      "Train Epoch: 0 [0/60000 (0%)]\tLoss: 2.302166\n",
      "Train Epoch: 0 [16000/60000 (27%)]\tLoss: 0.462439\n",
      "Train Epoch: 0 [32000/60000 (53%)]\tLoss: 0.412318\n",
      "Train Epoch: 0 [48000/60000 (80%)]\tLoss: 0.330014\n",
      "\n",
      "Test set: Average loss: 0.0123, Accuracy: 8591/10000 (86%)\n",
      "\n",
      "Train Epoch: 1 [0/60000 (0%)]\tLoss: 0.385214\n",
      "Train Epoch: 1 [16000/60000 (27%)]\tLoss: 0.363492\n",
      "Train Epoch: 1 [32000/60000 (53%)]\tLoss: 0.348456\n",
      "Train Epoch: 1 [48000/60000 (80%)]\tLoss: 0.241770\n",
      "\n",
      "Test set: Average loss: 0.0123, Accuracy: 8608/10000 (86%)\n",
      "\n",
      "Train Epoch: 2 [0/60000 (0%)]\tLoss: 0.315083\n",
      "Train Epoch: 2 [16000/60000 (27%)]\tLoss: 0.296908\n",
      "Train Epoch: 2 [32000/60000 (53%)]\tLoss: 0.336647\n",
      "Train Epoch: 2 [48000/60000 (80%)]\tLoss: 0.283151\n",
      "\n",
      "Test set: Average loss: 0.0115, Accuracy: 8715/10000 (87%)\n",
      "\n",
      "Train Epoch: 3 [0/60000 (0%)]\tLoss: 0.324857\n",
      "Train Epoch: 3 [16000/60000 (27%)]\tLoss: 0.402915\n",
      "Train Epoch: 3 [32000/60000 (53%)]\tLoss: 0.298157\n",
      "Train Epoch: 3 [48000/60000 (80%)]\tLoss: 0.314511\n",
      "\n",
      "Test set: Average loss: 0.0108, Accuracy: 8733/10000 (87%)\n",
      "\n",
      "Train Epoch: 4 [0/60000 (0%)]\tLoss: 0.373638\n",
      "Train Epoch: 4 [16000/60000 (27%)]\tLoss: 0.300619\n",
      "Train Epoch: 4 [32000/60000 (53%)]\tLoss: 0.311855\n",
      "Train Epoch: 4 [48000/60000 (80%)]\tLoss: 0.236706\n",
      "\n",
      "Test set: Average loss: 0.0103, Accuracy: 8826/10000 (88%)\n",
      "\n",
      "[INFO] Saving to ./model/5.pth\n",
      "Train Epoch: 5 [0/60000 (0%)]\tLoss: 0.222645\n",
      "Train Epoch: 5 [16000/60000 (27%)]\tLoss: 0.229022\n",
      "Train Epoch: 5 [32000/60000 (53%)]\tLoss: 0.229324\n",
      "Train Epoch: 5 [48000/60000 (80%)]\tLoss: 0.255128\n",
      "\n",
      "Test set: Average loss: 0.0100, Accuracy: 8814/10000 (88%)\n",
      "\n",
      "Train Epoch: 6 [0/60000 (0%)]\tLoss: 0.237473\n",
      "Train Epoch: 6 [16000/60000 (27%)]\tLoss: 0.264059\n",
      "Train Epoch: 6 [32000/60000 (53%)]\tLoss: 0.294655\n",
      "Train Epoch: 6 [48000/60000 (80%)]\tLoss: 0.312859\n",
      "\n",
      "Test set: Average loss: 0.0111, Accuracy: 8704/10000 (87%)\n",
      "\n",
      "Train Epoch: 7 [0/60000 (0%)]\tLoss: 0.276056\n",
      "Train Epoch: 7 [16000/60000 (27%)]\tLoss: 0.403532\n",
      "Train Epoch: 7 [32000/60000 (53%)]\tLoss: 0.300587\n",
      "Train Epoch: 7 [48000/60000 (80%)]\tLoss: 0.391656\n",
      "\n",
      "Test set: Average loss: 0.0104, Accuracy: 8800/10000 (88%)\n",
      "\n",
      "Train Epoch: 8 [0/60000 (0%)]\tLoss: 0.318467\n",
      "Train Epoch: 8 [16000/60000 (27%)]\tLoss: 0.252739\n",
      "Train Epoch: 8 [32000/60000 (53%)]\tLoss: 0.316847\n",
      "Train Epoch: 8 [48000/60000 (80%)]\tLoss: 0.299820\n",
      "\n",
      "Test set: Average loss: 0.0102, Accuracy: 8841/10000 (88%)\n",
      "\n",
      "Train Epoch: 9 [0/60000 (0%)]\tLoss: 0.247286\n",
      "Train Epoch: 9 [16000/60000 (27%)]\tLoss: 0.271783\n",
      "Train Epoch: 9 [32000/60000 (53%)]\tLoss: 0.283816\n",
      "Train Epoch: 9 [48000/60000 (80%)]\tLoss: 0.252622\n",
      "\n",
      "Test set: Average loss: 0.0108, Accuracy: 8789/10000 (88%)\n",
      "\n",
      "[INFO] Saving to ./model/10.pth\n",
      "Train Epoch: 10 [0/60000 (0%)]\tLoss: 0.292317\n",
      "Train Epoch: 10 [16000/60000 (27%)]\tLoss: 0.285407\n",
      "Train Epoch: 10 [32000/60000 (53%)]\tLoss: 0.280323\n",
      "Train Epoch: 10 [48000/60000 (80%)]\tLoss: 0.228729\n",
      "\n",
      "Test set: Average loss: 0.0106, Accuracy: 8789/10000 (88%)\n",
      "\n",
      "Train Epoch: 11 [0/60000 (0%)]\tLoss: 0.227287\n",
      "Train Epoch: 11 [16000/60000 (27%)]\tLoss: 0.270067\n",
      "Train Epoch: 11 [32000/60000 (53%)]\tLoss: 0.266369\n",
      "Train Epoch: 11 [48000/60000 (80%)]\tLoss: 0.346508\n",
      "\n",
      "Test set: Average loss: 0.0103, Accuracy: 8785/10000 (88%)\n",
      "\n",
      "Train Epoch: 12 [0/60000 (0%)]\tLoss: 0.254900\n",
      "Train Epoch: 12 [16000/60000 (27%)]\tLoss: 0.278443\n",
      "Train Epoch: 12 [32000/60000 (53%)]\tLoss: 0.250684\n",
      "Train Epoch: 12 [48000/60000 (80%)]\tLoss: 0.187103\n",
      "\n",
      "Test set: Average loss: 0.0101, Accuracy: 8871/10000 (89%)\n",
      "\n",
      "Train Epoch: 13 [0/60000 (0%)]\tLoss: 0.318398\n",
      "Train Epoch: 13 [16000/60000 (27%)]\tLoss: 0.292684\n",
      "Train Epoch: 13 [32000/60000 (53%)]\tLoss: 0.384588\n",
      "Train Epoch: 13 [48000/60000 (80%)]\tLoss: 0.311090\n",
      "\n",
      "Test set: Average loss: 0.0103, Accuracy: 8859/10000 (89%)\n",
      "\n",
      "Train Epoch: 14 [0/60000 (0%)]\tLoss: 0.218479\n",
      "Train Epoch: 14 [16000/60000 (27%)]\tLoss: 0.183818\n",
      "Train Epoch: 14 [32000/60000 (53%)]\tLoss: 0.212295\n",
      "Train Epoch: 14 [48000/60000 (80%)]\tLoss: 0.250677\n",
      "\n",
      "Test set: Average loss: 0.0103, Accuracy: 8794/10000 (88%)\n",
      "\n",
      "[INFO] Saving to ./model/15.pth\n",
      "Train Epoch: 15 [0/60000 (0%)]\tLoss: 0.227920\n",
      "Train Epoch: 15 [16000/60000 (27%)]\tLoss: 0.264408\n",
      "Train Epoch: 15 [32000/60000 (53%)]\tLoss: 0.205321\n",
      "Train Epoch: 15 [48000/60000 (80%)]\tLoss: 0.281211\n",
      "\n",
      "Test set: Average loss: 0.0105, Accuracy: 8838/10000 (88%)\n",
      "\n",
      "Train Epoch: 16 [0/60000 (0%)]\tLoss: 0.283698\n",
      "Train Epoch: 16 [16000/60000 (27%)]\tLoss: 0.241120\n",
      "Train Epoch: 16 [32000/60000 (53%)]\tLoss: 0.257519\n",
      "Train Epoch: 16 [48000/60000 (80%)]\tLoss: 0.267289\n",
      "\n",
      "Test set: Average loss: 0.0105, Accuracy: 8808/10000 (88%)\n",
      "\n",
      "Train Epoch: 17 [0/60000 (0%)]\tLoss: 0.262405\n",
      "Train Epoch: 17 [16000/60000 (27%)]\tLoss: 0.281586\n",
      "Train Epoch: 17 [32000/60000 (53%)]\tLoss: 0.287330\n",
      "Train Epoch: 17 [48000/60000 (80%)]\tLoss: 0.311247\n",
      "\n",
      "Test set: Average loss: 0.0107, Accuracy: 8815/10000 (88%)\n",
      "\n",
      "Train Epoch: 18 [0/60000 (0%)]\tLoss: 0.274126\n",
      "Train Epoch: 18 [16000/60000 (27%)]\tLoss: 0.270400\n",
      "Train Epoch: 18 [32000/60000 (53%)]\tLoss: 0.280530\n",
      "Train Epoch: 18 [48000/60000 (80%)]\tLoss: 0.365990\n",
      "\n",
      "Test set: Average loss: 0.0113, Accuracy: 8676/10000 (87%)\n",
      "\n",
      "Train Epoch: 19 [0/60000 (0%)]\tLoss: 0.199248\n",
      "Train Epoch: 19 [16000/60000 (27%)]\tLoss: 0.262768\n",
      "Train Epoch: 19 [32000/60000 (53%)]\tLoss: 0.309112\n",
      "Train Epoch: 19 [48000/60000 (80%)]\tLoss: 0.260738\n",
      "\n",
      "Test set: Average loss: 0.0101, Accuracy: 8866/10000 (89%)\n",
      "\n",
      "[INFO] Saving to ./model/20.pth\n"
     ]
    }
   ],
   "execution_count": 7
  },
  {
   "cell_type": "code",
   "metadata": {
    "ExecuteTime": {
     "end_time": "2025-05-26T12:45:20.971701Z",
     "start_time": "2025-05-26T12:45:20.963051Z"
    }
   },
   "source": [
    "model2 = FashionMnistModel()\n",
    "# 加载权重\n",
    "state_dict = torch.load(\"./model/15.pth\")\n",
    "model2.load_state_dict(state_dict)"
   ],
   "outputs": [
    {
     "data": {
      "text/plain": [
       "<All keys matched successfully>"
      ]
     },
     "execution_count": 8,
     "metadata": {},
     "output_type": "execute_result"
    }
   ],
   "execution_count": 8
  },
  {
   "cell_type": "code",
   "metadata": {
    "ExecuteTime": {
     "end_time": "2025-05-26T12:45:21.094794Z",
     "start_time": "2025-05-26T12:45:21.090575Z"
    }
   },
   "source": [
    "model2"
   ],
   "outputs": [
    {
     "data": {
      "text/plain": [
       "FashionMnistModel(\n",
       "  (conv1): Conv2d(1, 6, kernel_size=(5, 5), stride=(1, 1))\n",
       "  (pool1): MaxPool2d(kernel_size=2, stride=2, padding=0, dilation=1, ceil_mode=False)\n",
       "  (conv2): Conv2d(6, 16, kernel_size=(3, 3), stride=(1, 1))\n",
       "  (pool2): MaxPool2d(kernel_size=2, stride=2, padding=0, dilation=1, ceil_mode=False)\n",
       "  (linear1): Linear(in_features=400, out_features=10, bias=True)\n",
       "  (relu): ReLU()\n",
       ")"
      ]
     },
     "execution_count": 9,
     "metadata": {},
     "output_type": "execute_result"
    }
   ],
   "execution_count": 9
  },
  {
   "cell_type": "code",
   "metadata": {
    "ExecuteTime": {
     "end_time": "2025-05-26T12:45:21.140639Z",
     "start_time": "2025-05-26T12:45:21.136900Z"
    }
   },
   "source": [
    "label_classes = ['T-shirt/top', 'Trouser', 'Pullover', 'Dress', 'Coat',\n",
    "\t\t\t\t 'Sandal', 'Shirt', 'Sneaker', 'Bag', 'Ankle boot']"
   ],
   "outputs": [],
   "execution_count": 10
  },
  {
   "cell_type": "code",
   "metadata": {
    "ExecuteTime": {
     "end_time": "2025-05-26T12:45:21.189322Z",
     "start_time": "2025-05-26T12:45:21.184375Z"
    }
   },
   "source": [
    "def inference(model, img):\n",
    "\tmodel.eval()\n",
    "\timg = img.unsqueeze(dim=0)\n",
    "\toutput = model(img)\n",
    "\tpred = output.argmax(dim=1, keepdim=True)\n",
    "\treturn pred.squeeze().numpy()"
   ],
   "outputs": [],
   "execution_count": 11
  },
  {
   "cell_type": "code",
   "metadata": {
    "ExecuteTime": {
     "end_time": "2025-05-26T12:45:21.313672Z",
     "start_time": "2025-05-26T12:45:21.233721Z"
    }
   },
   "source": [
    "img, label = test_dataset.__getitem__(100)\n",
    "pred = inference(model2, img)\n",
    "fig = plt.figure(figsize=(1, 1))\n",
    "plt.title(label_classes[pred])\n",
    "plt.imshow(np.squeeze(img), cmap='gray')\n"
   ],
   "outputs": [
    {
     "data": {
      "text/plain": [
       "<matplotlib.image.AxesImage at 0x1e85505e420>"
      ]
     },
     "execution_count": 12,
     "metadata": {},
     "output_type": "execute_result"
    },
    {
     "data": {
      "text/plain": [
       "<Figure size 100x100 with 1 Axes>"
      ],
      "image/png": "[encoded data removed]"
     },
     "metadata": {},
     "output_type": "display_data"
    }
   ],
   "execution_count": 12
  }
 ],
 "metadata": {
  "kernelspec": {
   "display_name": "Python 3 (ipykernel)",
   "language": "python",
   "name": "python3"
  },
  "language_info": {
   "codemirror_mode": {
    "name": "ipython",
    "version": 3
   },
   "file_extension": ".py",
   "mimetype": "text/x-python",
   "name": "python",
   "nbconvert_exporter": "python",
   "pygments_lexer": "ipython3",
   "version": "3.9.7"
  }
 },
 "nbformat": 4,
 "nbformat_minor": 4
}
