{
 "cells": [
  {
   "cell_type": "code",
   "id": "initial_id",
   "metadata": {
    "collapsed": true,
    "ExecuteTime": {
     "end_time": "2025-06-03T11:42:13.382348Z",
     "start_time": "2025-06-03T11:42:13.377058Z"
    }
   },
   "source": [
    "import os\n",
    "from lib2to3.btm_matcher import type_repr\n"
   ],
   "outputs": [],
   "execution_count": 1
  },
  {
   "metadata": {
    "ExecuteTime": {
     "end_time": "2025-06-03T11:42:13.604233Z",
     "start_time": "2025-06-03T11:42:13.598924Z"
    }
   },
   "cell_type": "code",
   "source": "os.path.split(\"user/username/file.txt\")",
   "id": "c65a1fcd5684cca",
   "outputs": [
    {
     "data": {
      "text/plain": [
       "('user/username', 'file.txt')"
      ]
     },
     "execution_count": 2,
     "metadata": {},
     "output_type": "execute_result"
    }
   ],
   "execution_count": 2
  },
  {
   "metadata": {
    "ExecuteTime": {
     "end_time": "2025-06-03T11:42:13.623452Z",
     "start_time": "2025-06-03T11:42:13.619444Z"
    }
   },
   "cell_type": "code",
   "source": "from copy import deepcopy, copy",
   "id": "b6f5363820d241e2",
   "outputs": [],
   "execution_count": 3
  },
  {
   "metadata": {
    "ExecuteTime": {
     "end_time": "2025-06-03T11:42:13.635839Z",
     "start_time": "2025-06-03T11:42:13.632467Z"
    }
   },
   "cell_type": "code",
   "source": [
    "def printf(arg):\n",
    "\tprint()\n",
    "\tprint(arg)\n",
    "\tprint([id(x) for x in arg])\n",
    "\tprint()"
   ],
   "id": "dc37bc975f998b68",
   "outputs": [],
   "execution_count": 4
  },
  {
   "metadata": {
    "ExecuteTime": {
     "end_time": "2025-06-03T11:42:13.782546Z",
     "start_time": "2025-06-03T11:42:13.777396Z"
    }
   },
   "cell_type": "code",
   "source": [
    "a = [1,2]\n",
    "b = [a,3]\n",
    "a.append(b)\n",
    "c = deepcopy(a)\n",
    "d = copy(a)\n",
    "printf(a)\n",
    "printf(b)\n",
    "printf(c)\n",
    "printf(d)"
   ],
   "id": "4d8ae80cf6d72e4b",
   "outputs": [
    {
     "name": "stdout",
     "output_type": "stream",
     "text": [
      "\n",
      "[1, 2, [[...], 3]]\n",
      "[140725380581816, 140725380581848, 2637633137472]\n",
      "\n",
      "\n",
      "[[1, 2, [...]], 3]\n",
      "[2637634658304, 140725380581880]\n",
      "\n",
      "\n",
      "[1, 2, [[...], 3]]\n",
      "[140725380581816, 140725380581848, 2637633136512]\n",
      "\n",
      "\n",
      "[1, 2, [[1, 2, [...]], 3]]\n",
      "[140725380581816, 140725380581848, 2637633137472]\n",
      "\n"
     ]
    }
   ],
   "execution_count": 5
  },
  {
   "metadata": {
    "ExecuteTime": {
     "end_time": "2025-06-03T11:42:13.825649Z",
     "start_time": "2025-06-03T11:42:13.820828Z"
    }
   },
   "cell_type": "code",
   "source": [
    "ls1 = [1,2]\n",
    "ls2 = ls1\n",
    "ls1 =ls1 + [3,4]\n",
    "ls2"
   ],
   "id": "eb4fd459ee003ede",
   "outputs": [
    {
     "data": {
      "text/plain": [
       "[1, 2]"
      ]
     },
     "execution_count": 6,
     "metadata": {},
     "output_type": "execute_result"
    }
   ],
   "execution_count": 6
  },
  {
   "metadata": {
    "ExecuteTime": {
     "end_time": "2025-06-03T11:42:14.009507Z",
     "start_time": "2025-06-03T11:42:13.866480Z"
    }
   },
   "cell_type": "code",
   "source": [
    "import numpy as np\n",
    "a = np.random.randn(3,4)\n",
    "a"
   ],
   "id": "3bc9ec3273ce576a",
   "outputs": [
    {
     "data": {
      "text/plain": [
       "array([[ 1.12635720e-01,  3.20214070e-02,  1.01424387e-03,\n",
       "        -1.35283472e+00],\n",
       "       [-1.25206909e+00,  1.71595720e-02,  6.45622423e-01,\n",
       "         5.26456596e-02],\n",
       "       [ 1.43107721e+00,  8.01530515e-02,  2.20597197e+00,\n",
       "         1.65869692e-01]])"
      ]
     },
     "execution_count": 7,
     "metadata": {},
     "output_type": "execute_result"
    }
   ],
   "execution_count": 7
  },
  {
   "metadata": {
    "ExecuteTime": {
     "end_time": "2025-06-03T11:42:14.467132Z",
     "start_time": "2025-06-03T11:42:14.463004Z"
    }
   },
   "cell_type": "code",
   "source": [
    "a.resize((4,3))\n",
    "b = a.reshape((1,12))\n",
    "b"
   ],
   "id": "af72f6c0c9050eeb",
   "outputs": [
    {
     "data": {
      "text/plain": [
       "array([[ 1.12635720e-01,  3.20214070e-02,  1.01424387e-03,\n",
       "        -1.35283472e+00, -1.25206909e+00,  1.71595720e-02,\n",
       "         6.45622423e-01,  5.26456596e-02,  1.43107721e+00,\n",
       "         8.01530515e-02,  2.20597197e+00,  1.65869692e-01]])"
      ]
     },
     "execution_count": 8,
     "metadata": {},
     "output_type": "execute_result"
    }
   ],
   "execution_count": 8
  },
  {
   "metadata": {
    "ExecuteTime": {
     "end_time": "2025-06-03T11:42:14.547893Z",
     "start_time": "2025-06-03T11:42:14.544441Z"
    }
   },
   "cell_type": "code",
   "source": [
    "b[0][2] = 5\n",
    "a"
   ],
   "id": "a72eea7e3a581fa1",
   "outputs": [
    {
     "data": {
      "text/plain": [
       "array([[ 0.11263572,  0.03202141,  5.        ],\n",
       "       [-1.35283472, -1.25206909,  0.01715957],\n",
       "       [ 0.64562242,  0.05264566,  1.43107721],\n",
       "       [ 0.08015305,  2.20597197,  0.16586969]])"
      ]
     },
     "execution_count": 9,
     "metadata": {},
     "output_type": "execute_result"
    }
   ],
   "execution_count": 9
  },
  {
   "metadata": {
    "ExecuteTime": {
     "end_time": "2025-06-03T11:42:14.702832Z",
     "start_time": "2025-06-03T11:42:14.699835Z"
    }
   },
   "cell_type": "code",
   "source": "print(a>0.2)",
   "id": "6c0a83a77b25c54a",
   "outputs": [
    {
     "name": "stdout",
     "output_type": "stream",
     "text": [
      "[[False False  True]\n",
      " [False False False]\n",
      " [ True False  True]\n",
      " [False  True False]]\n"
     ]
    }
   ],
   "execution_count": 10
  },
  {
   "metadata": {
    "ExecuteTime": {
     "end_time": "2025-06-03T11:42:14.791006Z",
     "start_time": "2025-06-03T11:42:14.786720Z"
    }
   },
   "cell_type": "code",
   "source": "print(a[a>0.2])",
   "id": "5d6e130381908030",
   "outputs": [
    {
     "name": "stdout",
     "output_type": "stream",
     "text": [
      "[5.         0.64562242 1.43107721 2.20597197]\n"
     ]
    }
   ],
   "execution_count": 11
  },
  {
   "metadata": {
    "ExecuteTime": {
     "end_time": "2025-06-03T11:42:14.848421Z",
     "start_time": "2025-06-03T11:42:14.843908Z"
    }
   },
   "cell_type": "code",
   "source": "a[a>0.2][2] = 3",
   "id": "f2deb34b9e520c1f",
   "outputs": [],
   "execution_count": 12
  },
  {
   "metadata": {
    "ExecuteTime": {
     "end_time": "2025-06-03T11:42:14.875160Z",
     "start_time": "2025-06-03T11:42:14.871687Z"
    }
   },
   "cell_type": "code",
   "source": "a",
   "id": "ba3223cf4c26fb56",
   "outputs": [
    {
     "data": {
      "text/plain": [
       "array([[ 0.11263572,  0.03202141,  5.        ],\n",
       "       [-1.35283472, -1.25206909,  0.01715957],\n",
       "       [ 0.64562242,  0.05264566,  1.43107721],\n",
       "       [ 0.08015305,  2.20597197,  0.16586969]])"
      ]
     },
     "execution_count": 13,
     "metadata": {},
     "output_type": "execute_result"
    }
   ],
   "execution_count": 13
  },
  {
   "metadata": {
    "ExecuteTime": {
     "end_time": "2025-06-03T11:42:14.930055Z",
     "start_time": "2025-06-03T11:42:14.925955Z"
    }
   },
   "cell_type": "code",
   "source": [
    "c = np.transpose(a)\n",
    "c[0][0] = 10\n",
    "c"
   ],
   "id": "20529f0fba1e6d51",
   "outputs": [
    {
     "data": {
      "text/plain": [
       "array([[10.        , -1.35283472,  0.64562242,  0.08015305],\n",
       "       [ 0.03202141, -1.25206909,  0.05264566,  2.20597197],\n",
       "       [ 5.        ,  0.01715957,  1.43107721,  0.16586969]])"
      ]
     },
     "execution_count": 14,
     "metadata": {},
     "output_type": "execute_result"
    }
   ],
   "execution_count": 14
  },
  {
   "metadata": {
    "ExecuteTime": {
     "end_time": "2025-06-03T11:42:15.040672Z",
     "start_time": "2025-06-03T11:42:15.035692Z"
    }
   },
   "cell_type": "code",
   "source": "a",
   "id": "26f7c051165506ac",
   "outputs": [
    {
     "data": {
      "text/plain": [
       "array([[10.        ,  0.03202141,  5.        ],\n",
       "       [-1.35283472, -1.25206909,  0.01715957],\n",
       "       [ 0.64562242,  0.05264566,  1.43107721],\n",
       "       [ 0.08015305,  2.20597197,  0.16586969]])"
      ]
     },
     "execution_count": 15,
     "metadata": {},
     "output_type": "execute_result"
    }
   ],
   "execution_count": 15
  },
  {
   "metadata": {
    "ExecuteTime": {
     "end_time": "2025-06-03T11:42:15.206098Z",
     "start_time": "2025-06-03T11:42:15.201937Z"
    }
   },
   "cell_type": "code",
   "source": [
    "ls = range(4)\n",
    "aa = np.random.randn(4,4)\n",
    "aa"
   ],
   "id": "54a158e48ca9ff5a",
   "outputs": [
    {
     "data": {
      "text/plain": [
       "array([[-1.71326284, -1.88876437,  0.04243623,  1.67575229],\n",
       "       [ 0.53508386, -1.42996803,  0.68244626,  0.18458632],\n",
       "       [-2.21292296,  0.82775283,  0.34664489, -1.78868438],\n",
       "       [ 1.31712174, -1.19080863, -0.12022031,  0.29856647]])"
      ]
     },
     "execution_count": 16,
     "metadata": {},
     "output_type": "execute_result"
    }
   ],
   "execution_count": 16
  },
  {
   "metadata": {
    "ExecuteTime": {
     "end_time": "2025-06-03T11:42:15.338189Z",
     "start_time": "2025-06-03T11:42:15.333361Z"
    }
   },
   "cell_type": "code",
   "source": "print(aa[ls,ls])",
   "id": "560ef705b5d5b979",
   "outputs": [
    {
     "name": "stdout",
     "output_type": "stream",
     "text": [
      "[-1.71326284 -1.42996803  0.34664489  0.29856647]\n"
     ]
    }
   ],
   "execution_count": 17
  },
  {
   "metadata": {
    "ExecuteTime": {
     "end_time": "2025-06-03T11:42:15.493135Z",
     "start_time": "2025-06-03T11:42:15.486178Z"
    }
   },
   "cell_type": "code",
   "source": [
    "m = np.random.rand(3,7)\n",
    "n = np.random.rand(7,4)\n",
    "mm = m.reshape((3,7,1))\n",
    "nn = n.reshape((1,7,4))\n",
    "ans1 = np.sum(mm*nn, axis=1)\n",
    "ans2 = m@n\n",
    "print(ans1-ans2<1e-10)\n",
    "print(ans1)\n",
    "print(ans2)"
   ],
   "id": "1261e742e925ca7d",
   "outputs": [
    {
     "name": "stdout",
     "output_type": "stream",
     "text": [
      "[[ True  True  True  True]\n",
      " [ True  True  True  True]\n",
      " [ True  True  True  True]]\n",
      "[[0.91695303 0.6596666  1.02137137 0.5459339 ]\n",
      " [1.20978362 1.05884215 0.88892929 0.59503774]\n",
      " [1.84162682 0.68911353 1.71244018 0.86272857]]\n",
      "[[0.91695303 0.6596666  1.02137137 0.5459339 ]\n",
      " [1.20978362 1.05884215 0.88892929 0.59503774]\n",
      " [1.84162682 0.68911353 1.71244018 0.86272857]]\n"
     ]
    }
   ],
   "execution_count": 18
  },
  {
   "metadata": {
    "ExecuteTime": {
     "end_time": "2025-06-03T11:42:15.567247Z",
     "start_time": "2025-06-03T11:42:15.562377Z"
    }
   },
   "cell_type": "code",
   "source": [
    "x = np.random.uniform(size=100)\n",
    "x"
   ],
   "id": "3ea376a9dd45db0f",
   "outputs": [
    {
     "data": {
      "text/plain": [
       "array([6.51286093e-01, 6.42761817e-02, 1.21710312e-01, 5.89138005e-01,\n",
       "       1.00693147e-01, 8.39040522e-01, 7.61763427e-01, 2.19953097e-01,\n",
       "       9.83259839e-01, 3.67119790e-01, 2.80509032e-01, 5.81679912e-02,\n",
       "       2.39260831e-03, 6.28452234e-01, 2.00799477e-01, 9.79581704e-01,\n",
       "       1.10668363e-01, 4.86607460e-03, 7.64059988e-01, 9.91087620e-01,\n",
       "       8.55078377e-01, 8.93584793e-01, 8.50237691e-02, 5.77090355e-01,\n",
       "       9.27273975e-01, 3.26022820e-01, 8.33165629e-01, 1.36345183e-01,\n",
       "       6.93130229e-02, 3.10564501e-04, 1.96991223e-01, 7.68347678e-01,\n",
       "       2.53275429e-01, 3.55089868e-02, 6.17273492e-01, 4.92042523e-01,\n",
       "       5.48651075e-01, 8.09541569e-01, 2.45807345e-01, 5.96333034e-02,\n",
       "       3.32012495e-02, 1.89578306e-01, 8.70299192e-02, 4.45805350e-02,\n",
       "       7.37289917e-01, 2.68897199e-01, 5.06709934e-01, 8.25223972e-01,\n",
       "       9.11570464e-02, 1.66064565e-01, 2.31098815e-02, 6.70986645e-01,\n",
       "       8.90879895e-01, 3.80081001e-01, 9.34090959e-01, 1.14167290e-01,\n",
       "       5.47796595e-01, 7.58170741e-01, 6.83501489e-01, 2.62260851e-01,\n",
       "       8.83817003e-01, 8.96897379e-01, 3.82854395e-01, 7.01139751e-01,\n",
       "       7.59908930e-01, 4.76634841e-01, 7.45750578e-02, 9.94775987e-01,\n",
       "       1.95651297e-01, 3.14621980e-01, 4.48972797e-02, 3.50124772e-01,\n",
       "       6.68790324e-02, 9.15795073e-01, 5.17219668e-02, 8.75875636e-01,\n",
       "       8.75576743e-01, 3.50472762e-01, 4.13327762e-01, 6.86213875e-01,\n",
       "       9.05874678e-01, 6.54592479e-01, 4.55723960e-01, 5.42626909e-01,\n",
       "       7.99135778e-02, 3.16437224e-01, 7.40338440e-01, 5.56010397e-01,\n",
       "       2.97727856e-01, 9.34751465e-01, 7.43440476e-01, 6.02240745e-01,\n",
       "       6.79030844e-01, 5.80354980e-01, 9.23696635e-02, 1.42550066e-01,\n",
       "       3.74904274e-01, 3.11927121e-01, 4.17772328e-01, 3.06361567e-01])"
      ]
     },
     "execution_count": 19,
     "metadata": {},
     "output_type": "execute_result"
    }
   ],
   "execution_count": 19
  },
  {
   "metadata": {
    "ExecuteTime": {
     "end_time": "2025-06-03T11:42:15.616537Z",
     "start_time": "2025-06-03T11:42:15.612539Z"
    }
   },
   "cell_type": "code",
   "source": [
    "t = (2)\n",
    "type(t)"
   ],
   "id": "55b9d36df69d617b",
   "outputs": [
    {
     "data": {
      "text/plain": [
       "int"
      ]
     },
     "execution_count": 20,
     "metadata": {},
     "output_type": "execute_result"
    }
   ],
   "execution_count": 20
  },
  {
   "metadata": {
    "ExecuteTime": {
     "end_time": "2025-06-03T11:42:15.665891Z",
     "start_time": "2025-06-03T11:42:15.661367Z"
    }
   },
   "cell_type": "code",
   "source": [
    "t=(2,)\n",
    "type(t)"
   ],
   "id": "69e9c1ffdbe5b21a",
   "outputs": [
    {
     "data": {
      "text/plain": [
       "tuple"
      ]
     },
     "execution_count": 21,
     "metadata": {},
     "output_type": "execute_result"
    }
   ],
   "execution_count": 21
  },
  {
   "metadata": {
    "ExecuteTime": {
     "end_time": "2025-06-03T11:42:15.712015Z",
     "start_time": "2025-06-03T11:42:15.708654Z"
    }
   },
   "cell_type": "code",
   "source": [
    "x = np.array([1,2,3,4,5])\n",
    "y = np.array([6,7,8,9,10,30])\n",
    "x,y = np.meshgrid(x,y)"
   ],
   "id": "2914fd808989ecda",
   "outputs": [],
   "execution_count": 22
  },
  {
   "metadata": {
    "ExecuteTime": {
     "end_time": "2025-06-03T11:42:15.774565Z",
     "start_time": "2025-06-03T11:42:15.769565Z"
    }
   },
   "cell_type": "code",
   "source": "x",
   "id": "27c2caa480899ff0",
   "outputs": [
    {
     "data": {
      "text/plain": [
       "array([[1, 2, 3, 4, 5],\n",
       "       [1, 2, 3, 4, 5],\n",
       "       [1, 2, 3, 4, 5],\n",
       "       [1, 2, 3, 4, 5],\n",
       "       [1, 2, 3, 4, 5],\n",
       "       [1, 2, 3, 4, 5]])"
      ]
     },
     "execution_count": 23,
     "metadata": {},
     "output_type": "execute_result"
    }
   ],
   "execution_count": 23
  },
  {
   "metadata": {
    "ExecuteTime": {
     "end_time": "2025-06-03T11:42:15.862860Z",
     "start_time": "2025-06-03T11:42:15.857859Z"
    }
   },
   "cell_type": "code",
   "source": "y",
   "id": "4490d20d37857689",
   "outputs": [
    {
     "data": {
      "text/plain": [
       "array([[ 6,  6,  6,  6,  6],\n",
       "       [ 7,  7,  7,  7,  7],\n",
       "       [ 8,  8,  8,  8,  8],\n",
       "       [ 9,  9,  9,  9,  9],\n",
       "       [10, 10, 10, 10, 10],\n",
       "       [30, 30, 30, 30, 30]])"
      ]
     },
     "execution_count": 24,
     "metadata": {},
     "output_type": "execute_result"
    }
   ],
   "execution_count": 24
  },
  {
   "metadata": {
    "ExecuteTime": {
     "end_time": "2025-06-03T11:52:40.673693Z",
     "start_time": "2025-06-03T11:52:40.669473Z"
    }
   },
   "cell_type": "code",
   "source": [
    "import torch\n",
    "x = torch.tensor(-1., requires_grad=True)\n",
    "x.shape"
   ],
   "id": "e7824c7bf336b5c4",
   "outputs": [
    {
     "data": {
      "text/plain": [
       "torch.Size([])"
      ]
     },
     "execution_count": 10,
     "metadata": {},
     "output_type": "execute_result"
    }
   ],
   "execution_count": 10
  },
  {
   "metadata": {
    "ExecuteTime": {
     "end_time": "2025-06-03T11:52:41.740446Z",
     "start_time": "2025-06-03T11:52:41.735447Z"
    }
   },
   "cell_type": "code",
   "source": [
    "y = torch.zeros(1,1)\n",
    "y.shape"
   ],
   "id": "50c9a921b48f827f",
   "outputs": [
    {
     "data": {
      "text/plain": [
       "torch.Size([1, 1])"
      ]
     },
     "execution_count": 11,
     "metadata": {},
     "output_type": "execute_result"
    }
   ],
   "execution_count": 11
  },
  {
   "metadata": {
    "ExecuteTime": {
     "end_time": "2025-06-03T11:52:44.749043Z",
     "start_time": "2025-06-03T11:52:44.742809Z"
    }
   },
   "cell_type": "code",
   "source": [
    "z = torch.max(x, y)\n",
    "z.backward()\n",
    "print(x.grad)"
   ],
   "id": "4fea654a85111c18",
   "outputs": [
    {
     "name": "stdout",
     "output_type": "stream",
     "text": [
      "tensor(0.)\n"
     ]
    }
   ],
   "execution_count": 12
  },
  {
   "metadata": {
    "ExecuteTime": {
     "end_time": "2025-06-03T11:42:25.515695Z",
     "start_time": "2025-06-03T11:42:25.510689Z"
    }
   },
   "cell_type": "code",
   "source": "y.shape",
   "id": "605e9a8a7d1fb628",
   "outputs": [
    {
     "data": {
      "text/plain": [
       "torch.Size([1, 3])"
      ]
     },
     "execution_count": 28,
     "metadata": {},
     "output_type": "execute_result"
    }
   ],
   "execution_count": 28
  },
  {
   "metadata": {
    "ExecuteTime": {
     "end_time": "2025-06-03T11:42:25.566645Z",
     "start_time": "2025-06-03T11:42:25.560780Z"
    }
   },
   "cell_type": "code",
   "source": [
    "z = torch.tensor([[[1,2,3],[4,5,6]]])\n",
    "z.shape"
   ],
   "id": "a4a782dc16d991f3",
   "outputs": [
    {
     "data": {
      "text/plain": [
       "torch.Size([1, 2, 3])"
      ]
     },
     "execution_count": 29,
     "metadata": {},
     "output_type": "execute_result"
    }
   ],
   "execution_count": 29
  },
  {
   "metadata": {
    "ExecuteTime": {
     "end_time": "2025-06-03T11:42:30.849575Z",
     "start_time": "2025-06-03T11:42:25.603528Z"
    }
   },
   "cell_type": "code",
   "source": [
    "%%time\n",
    "a = torch.rand(100000,10000)\n",
    "b = torch.rand(10000,100000)\n",
    "c = a"
   ],
   "id": "9acdf98089bfdd46",
   "outputs": [
    {
     "name": "stdout",
     "output_type": "stream",
     "text": [
      "CPU times: total: 5.19 s\n",
      "Wall time: 5.24 s\n"
     ]
    }
   ],
   "execution_count": 30
  },
  {
   "metadata": {
    "ExecuteTime": {
     "end_time": "2025-06-03T11:42:30.874313Z",
     "start_time": "2025-06-03T11:42:30.869308Z"
    }
   },
   "cell_type": "code",
   "source": "c.device",
   "id": "7e64fdc3466618e2",
   "outputs": [
    {
     "data": {
      "text/plain": [
       "device(type='cpu')"
      ]
     },
     "execution_count": 31,
     "metadata": {},
     "output_type": "execute_result"
    }
   ],
   "execution_count": 31
  },
  {
   "metadata": {
    "jupyter": {
     "is_executing": true
    },
    "ExecuteTime": {
     "start_time": "2025-06-03T11:42:30.921615Z"
    }
   },
   "cell_type": "code",
   "source": "torch.cuda.is_available()",
   "id": "99ddc2f6951e08dd",
   "outputs": [],
   "execution_count": null
  },
  {
   "metadata": {
    "ExecuteTime": {
     "end_time": "2025-06-03T11:45:22.756545700Z",
     "start_time": "2025-06-03T11:39:23.400865Z"
    }
   },
   "cell_type": "code",
   "source": [
    "a = a.cuda()\n",
    "b = b.cuda()\n",
    "a.device"
   ],
   "id": "e9e00762b2bb9a46",
   "outputs": [
    {
     "data": {
      "text/plain": [
       "device(type='cuda', index=0)"
      ]
     },
     "execution_count": 34,
     "metadata": {},
     "output_type": "execute_result"
    }
   ],
   "execution_count": 34
  },
  {
   "metadata": {
    "ExecuteTime": {
     "end_time": "2025-06-03T11:45:22.758543Z",
     "start_time": "2025-06-03T11:39:25.077468Z"
    }
   },
   "cell_type": "code",
   "source": [
    "c = a@b\n",
    "c"
   ],
   "id": "a865fb68c61b0990",
   "outputs": [
    {
     "data": {
      "text/plain": [
       "tensor([[24969.3184, 25075.1484, 25027.8848,  ..., 24996.8691, 24959.0449,\n",
       "         24996.4453],\n",
       "        [24971.5410, 25026.6738, 24991.3066,  ..., 25005.0547, 24962.8984,\n",
       "         24995.2090],\n",
       "        [24944.7988, 24989.0449, 25043.0801,  ..., 25011.0898, 25004.5820,\n",
       "         24961.2695],\n",
       "        ...,\n",
       "        [25077.0957, 25023.2559, 25103.9531,  ..., 25049.3164, 24999.6914,\n",
       "         25027.6602],\n",
       "        [25012.1855, 25062.2324, 25069.1367,  ..., 25037.6738, 24992.8574,\n",
       "         25071.7988],\n",
       "        [24963.2207, 24982.3027, 24986.4180,  ..., 25048.4355, 24935.8301,\n",
       "         24980.9121]], device='cuda:0')"
      ]
     },
     "execution_count": 35,
     "metadata": {},
     "output_type": "execute_result"
    }
   ],
   "execution_count": 35
  },
  {
   "metadata": {
    "ExecuteTime": {
     "end_time": "2025-06-03T11:45:22.926480Z",
     "start_time": "2025-06-03T11:39:30.125238Z"
    }
   },
   "cell_type": "code",
   "source": "c.device",
   "id": "c75fd1f8fdb2674f",
   "outputs": [
    {
     "data": {
      "text/plain": [
       "device(type='cuda', index=0)"
      ]
     },
     "execution_count": 36,
     "metadata": {},
     "output_type": "execute_result"
    }
   ],
   "execution_count": 36
  },
  {
   "metadata": {
    "ExecuteTime": {
     "end_time": "2025-06-04T12:00:39.356680Z",
     "start_time": "2025-06-04T12:00:39.353455Z"
    }
   },
   "cell_type": "code",
   "source": [
    "s1 = list(\"hello\")\n",
    "s2 = list(\"world\")\n",
    "s1[1:] = []\n",
    "print(s1)\n",
    "s1[1:] = s2\n",
    "print(s1[-1])"
   ],
   "id": "33b1572cfbcfd67c",
   "outputs": [
    {
     "name": "stdout",
     "output_type": "stream",
     "text": [
      "['h']\n",
      "d\n"
     ]
    }
   ],
   "execution_count": 2
  },
  {
   "metadata": {
    "ExecuteTime": {
     "end_time": "2025-06-04T12:03:17.789421Z",
     "start_time": "2025-06-04T12:03:17.783442Z"
    }
   },
   "cell_type": "code",
   "source": "len(str(12.23))",
   "id": "a06736017652dd1a",
   "outputs": [
    {
     "data": {
      "text/plain": [
       "5"
      ]
     },
     "execution_count": 3,
     "metadata": {},
     "output_type": "execute_result"
    }
   ],
   "execution_count": 3
  },
  {
   "metadata": {
    "ExecuteTime": {
     "end_time": "2025-06-04T12:05:57.608499Z",
     "start_time": "2025-06-04T12:05:57.604538Z"
    }
   },
   "cell_type": "code",
   "source": [
    "with open(\"t.txt\", \"r\") as f:\n",
    "\tprint(f.read(3))"
   ],
   "id": "a1d449a7421a5d90",
   "outputs": [
    {
     "name": "stdout",
     "output_type": "stream",
     "text": [
      "hel\n"
     ]
    }
   ],
   "execution_count": 9
  },
  {
   "metadata": {
    "ExecuteTime": {
     "end_time": "2025-06-10T14:01:50.418823Z",
     "start_time": "2025-06-10T14:01:50.412760Z"
    }
   },
   "cell_type": "code",
   "source": [
    "ls = [True,False,True]\n",
    "s = 2\n",
    "s += ls[0]\n",
    "s"
   ],
   "id": "69dcb0504a9b2a3b",
   "outputs": [
    {
     "data": {
      "text/plain": [
       "3"
      ]
     },
     "execution_count": 2,
     "metadata": {},
     "output_type": "execute_result"
    }
   ],
   "execution_count": 2
  },
  {
   "metadata": {
    "ExecuteTime": {
     "end_time": "2025-06-12T03:01:59.795997Z",
     "start_time": "2025-06-12T03:01:59.792759Z"
    }
   },
   "cell_type": "code",
   "source": [
    "from copy import deepcopy\n",
    "ls = [1,2,[2,3,4,ls]]\n",
    "ls1 = deepcopy(ls)\n",
    "print(id(ls), id(ls1))\n",
    "print(id(ls[2]), id(ls1[2]))\n",
    "print(id(ls[2][3]), id(ls1[2][3]))\n",
    "# ls1[2][3][0] = 100\n",
    "print(ls)"
   ],
   "id": "288627638f7c974b",
   "outputs": [
    {
     "name": "stdout",
     "output_type": "stream",
     "text": [
      "2169761245632 2169762573184\n",
      "2169760981120 2169763166592\n",
      "2169763377280 2169761244992\n",
      "[1, 2, [2, 3, 4, [1, 2, [2, 3, 4, [1, 2, [2, 3, 4, [1, 2, [2, 3, 4, [1, 2, [2, 3, 4, [4, 5, 6]]]]]]]]]]]\n"
     ]
    }
   ],
   "execution_count": 6
  },
  {
   "metadata": {
    "ExecuteTime": {
     "end_time": "2025-06-12T03:36:53.012031Z",
     "start_time": "2025-06-12T03:36:53.007921Z"
    }
   },
   "cell_type": "code",
   "source": [
    "class A:\n",
    "\tdef __init__(self, x):\n",
    "\t\tself.x = x\n",
    "\n",
    "\tdef deept(self):\n",
    "\t\tprint(\"deepcopy called\",self.x)\n",
    "\t\tself.print1()\n",
    "\n",
    "\tdef print1(self):\n",
    "\t\tprint(\"a\")\n",
    "class B(A):\n",
    "\tdef __init__(self, x):\n",
    "\t\tsuper().__init__(x)\n",
    "\t\tself.x = x+\"sadf\"\n",
    "\n",
    "\tdef print1(self):\n",
    "\t\tprint(\"b\")\n",
    "\n",
    "\n",
    "t = B(\"hello\")\n",
    "p = t.deept\n",
    "p()"
   ],
   "id": "821fdef7e4f8de67",
   "outputs": [
    {
     "name": "stdout",
     "output_type": "stream",
     "text": [
      "deepcopy called hellosadf\n",
      "b\n"
     ]
    }
   ],
   "execution_count": 15
  },
  {
   "metadata": {
    "ExecuteTime": {
     "end_time": "2025-06-12T03:41:28.518849Z",
     "start_time": "2025-06-12T03:41:28.512943Z"
    }
   },
   "cell_type": "code",
   "source": [
    "import torch\n",
    "a = torch.tensor([1, 2, 3, 4, 5])\n",
    "y = a.flatten()\n",
    "y"
   ],
   "id": "9daa1510e4da525f",
   "outputs": [
    {
     "data": {
      "text/plain": [
       "tensor([1, 2, 3, 4, 5])"
      ]
     },
     "execution_count": 24,
     "metadata": {},
     "output_type": "execute_result"
    }
   ],
   "execution_count": 24
  },
  {
   "metadata": {
    "ExecuteTime": {
     "end_time": "2025-06-12T03:41:29.508220Z",
     "start_time": "2025-06-12T03:41:29.503547Z"
    }
   },
   "cell_type": "code",
   "source": [
    "y[0] = 100\n",
    "print(a)"
   ],
   "id": "9687bd88ee1687dc",
   "outputs": [
    {
     "name": "stdout",
     "output_type": "stream",
     "text": [
      "tensor([100,   2,   3,   4,   5])\n"
     ]
    }
   ],
   "execution_count": 25
  },
  {
   "metadata": {
    "ExecuteTime": {
     "end_time": "2025-06-12T08:08:28.213558Z",
     "start_time": "2025-06-12T08:08:28.209117Z"
    }
   },
   "cell_type": "code",
   "source": [
    "class A:\n",
    "\tdef __init__(self, name, age):\n",
    "\t\tself.name = name\n",
    "\t\tself.age = age\n",
    "\tdef attack(self, target):\n",
    "\t\tprint(f\"{self.name} attacks {target.name}!\")\n",
    "\n",
    "def A_attack(self, target):\n",
    "\tprint(f\"{self.name} attacks {target.age} with a custom method!\")\n",
    "def B_attack(self, target):\n",
    "\tprint(f\"{self.name} attacks {target.age} with a different custom method!\")\n",
    "\n",
    "a = A(\"Hero\", 30)\n",
    "b = A(\"Villain\", 40)\n",
    "a.attack(b)  # Original method\n",
    "\n",
    "A.attack = A_attack  # Replace method for class A\n",
    "a.attack(b)  # New method for class A\n",
    "\n",
    "b.attack = B_attack  # Replace method for instance b\n",
    "b.attack(a,a)  # New method for instance b\n"
   ],
   "id": "8e24238f4f19edc1",
   "outputs": [
    {
     "name": "stdout",
     "output_type": "stream",
     "text": [
      "Hero attacks Villain!\n",
      "Hero attacks 40 with a custom method!\n",
      "Hero attacks 30 with a different custom method!\n"
     ]
    }
   ],
   "execution_count": 3
  },
  {
   "metadata": {
    "ExecuteTime": {
     "end_time": "2025-06-12T08:12:41.375793Z",
     "start_time": "2025-06-12T08:12:41.371687Z"
    }
   },
   "cell_type": "code",
   "source": [
    "def A(x,**y):\n",
    "\tz = []\n",
    "\tprint(y)\n",
    "\tfor i in y:\n",
    "\t\tz.append(i)\n",
    "\tz.append(x)\n",
    "\treturn z\n",
    "\n",
    "x = ['a','b']\n",
    "y = [1,2]\n",
    "print(A(x,a=y))"
   ],
   "id": "237d7a29e1577f82",
   "outputs": [
    {
     "name": "stdout",
     "output_type": "stream",
     "text": [
      "{'a': [1, 2]}\n",
      "['a', ['a', 'b']]\n"
     ]
    }
   ],
   "execution_count": 6
  },
  {
   "metadata": {},
   "cell_type": "code",
   "outputs": [],
   "execution_count": null,
   "source": "",
   "id": "1f46cbb5ec82cf3"
  }
 ],
 "metadata": {
  "kernelspec": {
   "display_name": "Python 3",
   "language": "python",
   "name": "python3"
  },
  "language_info": {
   "codemirror_mode": {
    "name": "ipython",
    "version": 2
   },
   "file_extension": ".py",
   "mimetype": "text/x-python",
   "name": "python",
   "nbconvert_exporter": "python",
   "pygments_lexer": "ipython2",
   "version": "2.7.6"
  }
 },
 "nbformat": 4,
 "nbformat_minor": 5
}
