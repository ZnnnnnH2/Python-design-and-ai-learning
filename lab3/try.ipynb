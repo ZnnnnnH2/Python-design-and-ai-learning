{
 "cells": [
  {
   "cell_type": "code",
   "id": "initial_id",
   "metadata": {
    "collapsed": true,
    "ExecuteTime": {
     "end_time": "2025-04-24T09:05:53.316484Z",
     "start_time": "2025-04-24T09:05:53.313370Z"
    }
   },
   "source": [
    "import numpy as np\n",
    "\n",
    "dim = 4"
   ],
   "outputs": [],
   "execution_count": 7
  },
  {
   "metadata": {
    "ExecuteTime": {
     "end_time": "2025-04-24T09:05:53.355709Z",
     "start_time": "2025-04-24T09:05:53.351515Z"
    }
   },
   "cell_type": "code",
   "source": "np.random.randn(dim+1, 1)",
   "id": "e9db98fe05d79dee",
   "outputs": [
    {
     "data": {
      "text/plain": [
       "array([[-1.41629135],\n",
       "       [ 0.80100176],\n",
       "       [-0.12738849],\n",
       "       [-1.23024122],\n",
       "       [-1.28980331]])"
      ]
     },
     "execution_count": 8,
     "metadata": {},
     "output_type": "execute_result"
    }
   ],
   "execution_count": 8
  },
  {
   "metadata": {
    "ExecuteTime": {
     "end_time": "2025-04-24T09:05:53.395783Z",
     "start_time": "2025-04-24T09:05:53.391906Z"
    }
   },
   "cell_type": "code",
   "source": "np.random.normal(1, 0.1, [dim+1, 1])",
   "id": "fbd3ea3921978a6b",
   "outputs": [
    {
     "data": {
      "text/plain": [
       "array([[0.94701963],\n",
       "       [0.91547246],\n",
       "       [0.99101197],\n",
       "       [0.86932598],\n",
       "       [0.9913838 ]])"
      ]
     },
     "execution_count": 9,
     "metadata": {},
     "output_type": "execute_result"
    }
   ],
   "execution_count": 9
  },
  {
   "metadata": {
    "ExecuteTime": {
     "end_time": "2025-04-24T09:05:53.452293Z",
     "start_time": "2025-04-24T09:05:53.449037Z"
    }
   },
   "cell_type": "code",
   "source": [
    "X = np.array([[1,2,3],[4,5,6]])\n",
    "X"
   ],
   "id": "8aa009dcae54e8f2",
   "outputs": [
    {
     "data": {
      "text/plain": [
       "array([[1, 2, 3],\n",
       "       [4, 5, 6]])"
      ]
     },
     "execution_count": 10,
     "metadata": {},
     "output_type": "execute_result"
    }
   ],
   "execution_count": 10
  },
  {
   "metadata": {
    "ExecuteTime": {
     "end_time": "2025-04-24T09:05:53.517649Z",
     "start_time": "2025-04-24T09:05:53.512988Z"
    }
   },
   "cell_type": "code",
   "source": "np.hstack([X, np.ones((X.shape[0], 1))])",
   "id": "d7ac5916562aaff5",
   "outputs": [
    {
     "data": {
      "text/plain": [
       "array([[1., 2., 3., 1.],\n",
       "       [4., 5., 6., 1.]])"
      ]
     },
     "execution_count": 11,
     "metadata": {},
     "output_type": "execute_result"
    }
   ],
   "execution_count": 11
  },
  {
   "metadata": {
    "ExecuteTime": {
     "end_time": "2025-04-24T09:05:53.664448Z",
     "start_time": "2025-04-24T09:05:53.662447Z"
    }
   },
   "cell_type": "code",
   "source": "",
   "id": "dc65554ae791b48",
   "outputs": [],
   "execution_count": null
  }
 ],
 "metadata": {
  "kernelspec": {
   "display_name": "Python 3",
   "language": "python",
   "name": "python3"
  },
  "language_info": {
   "codemirror_mode": {
    "name": "ipython",
    "version": 2
   },
   "file_extension": ".py",
   "mimetype": "text/x-python",
   "name": "python",
   "nbconvert_exporter": "python",
   "pygments_lexer": "ipython2",
   "version": "2.7.6"
  }
 },
 "nbformat": 4,
 "nbformat_minor": 5
}
