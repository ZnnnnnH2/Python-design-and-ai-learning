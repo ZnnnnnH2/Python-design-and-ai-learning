{
 "cells": [
  {
   "cell_type": "markdown",
   "metadata": {},
   "source": [
    "# 作业: 逻辑回归\n",
    "\n",
    "## 作业要求：\n",
    "\n",
    "用numpy实现Logistic Regression类（补充cell 1中定义的LogisticRegression类），用梯度下降法训练\n",
    "\n",
    "1. 包括类的方法 loss = fit(X,Y) 函数，用于训练；输入：X为N * d维的训练数据，N为训练样本数，d为数据的维数；Y为N*1维的训练数据真实类别号；输出：loss为列表，包括每轮的损失函数值。\n",
    "\n",
    "2. 包括类的方法 y_pred, y_pred_label = predict(X) 函数，用于测试；输入： X为N * d维的测试数据， N为测试样本数；输出：y_pred维数为N * 1，为模型的预测（回归）值；y_pred_label维数为N * 1，为根据回归值得到的预测类别号\n",
    "\n",
    "3. 补充plotDecisioinBoundary函数，使其能够使用等高线图(contour）绘制出Logistic Regression模型的分类面。"
   ]
  },
  {
   "metadata": {},
   "cell_type": "markdown",
   "source": ""
  },
  {
   "cell_type": "code",
   "metadata": {
    "ExecuteTime": {
     "end_time": "2025-04-26T07:04:52.729958Z",
     "start_time": "2025-04-26T07:04:52.724871Z"
    }
   },
   "source": [
    "import numpy as np\n",
    "\n",
    "\n",
    "class LogisticRegression(object):\n",
    "\tdef __init__(self, dim, learning_rate=0.01, max_iter=100, seed=None):\n",
    "\t\tnp.random.seed(seed)\n",
    "\t\tself.dim = dim\n",
    "\t\tself.lr = learning_rate\n",
    "\t\tself.max_iter = max_iter  # 定义学习率和训练轮数\n",
    "\t\tself.W = np.random.randn(dim+1, 1)\n",
    "\t\tprint(self.W)\n",
    "\t\t# self.W = np.random.normal(1, 0.1, [dim+1, 1])\n",
    "# 可在此处补充类的属性\n",
    "\n",
    "\n",
    "\tdef fit(self, X, Y):\n",
    "\t\t# 请在此处补充类的方法：训练函数，返回每轮loss的列表\n",
    "\t\tloss = []\n",
    "\t\tpw = [self.W]\n",
    "\t\tX_ = np.hstack([X, np.ones((X.shape[0], 1))])  # 在X后面添加一列1\n",
    "\t\tfor i in range(self.max_iter):\n",
    "\t\t\tself.__train_step(X_, Y)\n",
    "\t\t\tY_pred,_ = self.predict(X)\n",
    "\t\t\tloss.append(self.loss(Y, Y_pred))\n",
    "\t\t\tpw.append(self.W)\n",
    "\t\treturn loss,pw\n",
    "\n",
    "\n",
    "\tdef __train_step(self, X, Y):\n",
    "\t\tP = self.__get_P(X, self.W)\n",
    "\t\tdW = self.__get_grad(X, Y, P)\n",
    "\t\tself.W -= self.lr * dW\n",
    "\n",
    "\n",
    "\tdef __get_grad(self,X, Y, P):\n",
    "\t\tN = X.shape[0]\n",
    "\t\tdW = X.T.dot(P - Y) / N\n",
    "\t\treturn dW\n",
    "\n",
    "\n",
    "\tdef __get_P(self,X, W):\n",
    "\t\t# 请在此处补充类的方法：计算P\n",
    "\t\tP = 1 / (1 + np.exp(-X.dot(W)))\n",
    "\t\treturn P\n",
    "\n",
    "\n",
    "\tdef predict(self, X):\n",
    "\t\t# 请在此处补充类的方法：测试函数，返回对应X的预测值和预测类别列表\n",
    "\t\tX = np.hstack([X, np.ones((X.shape[0], 1))])  # 在X后面添加一列1\n",
    "\t\tY_pred = self.__get_P(X, self.W)\n",
    "\t\tY_pred_label = np.where(Y_pred < 0.5, 0, 1)\n",
    "\t\treturn Y_pred, Y_pred_label\n",
    "\n",
    "\tdef loss(self, Y, Y_pred):\n",
    "\t\tloss = -np.mean(Y * np.log(Y_pred) + (1 - Y) * np.log(1 - Y_pred))\n",
    "\t\treturn loss\n"
   ],
   "outputs": [],
   "execution_count": 28
  },
  {
   "metadata": {
    "ExecuteTime": {
     "end_time": "2025-04-26T07:04:52.754792Z",
     "start_time": "2025-04-26T07:04:52.750473Z"
    }
   },
   "cell_type": "code",
   "source": [
    "import matplotlib.pyplot as plt\n",
    "\n",
    "\n",
    "def plotData(X, Y):\n",
    "\t\"\"\"\n",
    "    使用红色+号表示正例，蓝色圆点表示负例，绘制数据集中正负例的分布情况\n",
    "    \"\"\"\n",
    "\tplt.figure()\n",
    "\tpos_idx = (Y == 1)\n",
    "\t# size m,1\n",
    "\tpos_idx = pos_idx[:, 0]\n",
    "\t# size m, 这时才可用来索引某[一]个维度\n",
    "\tneg_idx = (Y == 0)\n",
    "\tneg_idx = neg_idx[:, 0]\n",
    "\n",
    "\tplt.plot(X[pos_idx, 0], X[pos_idx, 1], 'r+')\n",
    "\tplt.plot(X[neg_idx, 0], X[neg_idx, 1], 'bo')\n",
    "\n",
    "\n",
    "\n",
    "\n",
    "def plotDecisioinBoundary(X, Y, regr):\n",
    "\t\"\"\"\n",
    "    在正负例分布图上进一步绘制出模型regr的分类界面\n",
    "    \"\"\"\n",
    "\t# 先绘制正负例分布情况\n",
    "\tplotData(X, Y)\n",
    "\n",
    "\t# 绘制等高线图，在水平和垂直方向均有50个点\n",
    "\tplot_num = 50;\n",
    "\tplot_num_2D = plot_num ** 2;\n",
    "\n",
    "\t# 准备网格\n",
    "\tx_plot = np.linspace(start=X[:, 0].min(), stop=X[:, 0].max(), num=plot_num)\n",
    "\ty_plot = np.linspace(start=X[:, 1].min(), stop=X[:, 1].max(), num=plot_num)\n",
    "\tX_plot, Y_plot = np.meshgrid(x_plot, y_plot)\n",
    "\t# print(X_plot)\n",
    "\t# print(X_plot.shape)\n",
    "\t# 请在此补充代码，计算regr模型在各个格点的预测概率，并构成一个形状和格点相同的P_matrix数组，绘制等高线图\n",
    "\ttempX = np.c_[X_plot.ravel(), Y_plot.ravel()]\n",
    "\t# tempX = np.hstack([tempX, np.ones((tempX.shape[0], 1))])\n",
    "\tP_matrix, _ = regr.predict(tempX)\n",
    "\tP_matrix.resize(X_plot.shape)\n",
    "\t# 补充代码结束\n",
    "\tplt.contour(X_plot, Y_plot, P_matrix, np.array([0.5]))\n",
    "\n",
    "\n",
    "def test(y_pred, y_true):\n",
    "\ttrue = 0.\n",
    "\tfor j in range(y_pred.shape[0]):\n",
    "\t\tif y_true[j] == y_pred[j]:\n",
    "\t\t\ttrue += 1\n",
    "\tacc = true / y_pred.shape[0]\n",
    "\treturn acc"
   ],
   "outputs": [],
   "execution_count": 29
  },
  {
   "cell_type": "code",
   "metadata": {
    "ExecuteTime": {
     "end_time": "2025-04-26T07:04:52.959085Z",
     "start_time": "2025-04-26T07:04:52.773209Z"
    }
   },
   "source": [
    "# 导入测试数据\n",
    "import csv\n",
    "seed = 210404\n",
    "data_1 = np.load('data_for_logistic_regression_1.npz')\n",
    "x_train = data_1['x_train']\n",
    "y_train = data_1['y_train']\n",
    "x_test = data_1['x_test']\n",
    "y_test = data_1['y_test']\n",
    "dim = x_train.shape[1]\n",
    "\n",
    "# 训练逻辑回归模型\n",
    "max_iter = 1000\n",
    "regr = LogisticRegression(dim, learning_rate=0.01, max_iter=max_iter, seed=seed)\n",
    "loss, dw = regr.fit(x_train, y_train)\n",
    "print(regr.W)\n",
    "# 打印损失\n",
    "plt.figure()\n",
    "plt.scatter(np.arange(len(loss)), loss, marker='o', c='green')\n",
    "plt.show()\n",
    "\n",
    "plt.figure()\n",
    "plt.scatter(np.arange(len(dw)), [x[0] for x in dw], marker='o', c='red')\n",
    "# plt.ylim(-1.11, -1.14)\n",
    "with open(f\"output_{str(max_iter)}.csv\",\"w\",newline='') as f:\n",
    "\twriter = csv.writer(f)\n",
    "\twriter.writerows(dw)\n",
    "\n",
    "plt.show()\n",
    "# 显示测试集中的分类界面\n",
    "plt.figure()\n",
    "plotDecisioinBoundary(x_test, y_test, regr)\n",
    "\n",
    "y_pred, y_pred_label = regr.predict(x_test)\n",
    "acc = test(y_pred_label, y_test)\n",
    "print('测试集上正确率:{}'.format(acc))"
   ],
   "outputs": [
    {
     "name": "stdout",
     "output_type": "stream",
     "text": [
      "[[-0.52944401]\n",
      " [-2.98741531]\n",
      " [-0.73730359]]\n",
      "[[-0.94630421]\n",
      " [ 0.45543873]\n",
      " [-0.87034925]]\n"
     ]
    },
    {
     "name": "stderr",
     "output_type": "stream",
     "text": [
      "C:\\Users\\ZnH2\\AppData\\Local\\Temp\\ipykernel_32848\\3010216265.py:55: RuntimeWarning: divide by zero encountered in log\n",
      "  loss = -np.mean(Y * np.log(Y_pred) + (1 - Y) * np.log(1 - Y_pred))\n"
     ]
    },
    {
     "data": {
      "text/plain": [
       "<Figure size 640x480 with 1 Axes>"
      ],
      "image/png": "[encoded data removed]"
     },
     "metadata": {},
     "output_type": "display_data"
    },
    {
     "data": {
      "text/plain": [
       "<Figure size 640x480 with 1 Axes>"
      ],
      "image/png": "[encoded data removed]"
     },
     "metadata": {},
     "output_type": "display_data"
    },
    {
     "name": "stdout",
     "output_type": "stream",
     "text": [
      "测试集上正确率:0.95\n"
     ]
    },
    {
     "data": {
      "text/plain": [
       "<Figure size 640x480 with 0 Axes>"
      ]
     },
     "metadata": {},
     "output_type": "display_data"
    },
    {
     "data": {
      "text/plain": [
       "<Figure size 640x480 with 1 Axes>"
      ],
      "image/png": "[encoded data removed]"
     },
     "metadata": {},
     "output_type": "display_data"
    }
   ],
   "execution_count": 30
  },
  {
   "cell_type": "code",
   "metadata": {
    "ExecuteTime": {
     "end_time": "2025-04-26T07:04:52.978984Z",
     "start_time": "2025-04-26T07:04:52.976609Z"
    }
   },
   "source": [],
   "outputs": [],
   "execution_count": null
  }
 ],
 "metadata": {
  "kernelspec": {
   "display_name": "Python 3 (ipykernel)",
   "language": "python",
   "name": "python3"
  },
  "language_info": {
   "codemirror_mode": {
    "name": "ipython",
    "version": 3
   },
   "file_extension": ".py",
   "mimetype": "text/x-python",
   "name": "python",
   "nbconvert_exporter": "python",
   "pygments_lexer": "ipython3",
   "version": "3.9.7"
  }
 },
 "nbformat": 4,
 "nbformat_minor": 4
}
