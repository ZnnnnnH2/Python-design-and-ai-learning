{
 "cells": [
  {
   "cell_type": "markdown",
   "id": "78055c0f-f83c-4499-83e6-4535705be382",
   "metadata": {},
   "source": [
    "# 练习：实现二分类问题评价指标\n",
    "\n",
    "* y_true和y_pred均为numpy向量，分别代表标注值和预测值\n",
    "    * 1：正例\n",
    "    * 0：负例\n",
    "* 实现函数\n",
    "\n",
    "```python \n",
    "confusion_matrix\n",
    "accuracy\n",
    "precision\n",
    "recall\n",
    "f1\n",
    "```\n",
    "\n",
    "* 注意\n",
    "    * 对y_true和y_pred的大小和数值做合法性检查\n",
    "    * 对边界情况进行判断\n"
   ]
  },
  {
   "cell_type": "code",
   "id": "a317972e-9300-4f75-aa6d-ffb04f41e2cf",
   "metadata": {
    "ExecuteTime": {
     "end_time": "2025-05-12T11:43:54.187321Z",
     "start_time": "2025-05-12T11:43:54.166756Z"
    }
   },
   "source": [
    "import numpy as np\n",
    "\n",
    "\n",
    "class EvaluationMetrics(object):\n",
    "\n",
    "\tdef confusion_matrix(self, y_true, y_pred):\n",
    "\t\t#补全该方法\n",
    "\t\tself.check_size_and_value(y_true, y_pred)\n",
    "\n",
    "\t\tTP = 0\n",
    "\t\tFP = 0\n",
    "\t\tTN = 0\n",
    "\t\tFN = 0\n",
    "\t\tlength = len(y_true)\n",
    "\t\tfor i in range(length):\n",
    "\t\t\tif y_true[i] == 1 and y_pred[i] == 1:\n",
    "\t\t\t\tTP += 1\n",
    "\t\t\telif y_true[i] == 1 and y_pred[i] == 0:\n",
    "\t\t\t\tFN += 1\n",
    "\t\t\telif y_true[i] == 0 and y_pred[i] == 1:\n",
    "\t\t\t\tFP += 1\n",
    "\t\t\telif y_true[i] == 0 and y_pred[i] == 0:\n",
    "\t\t\t\tTN += 1\n",
    "\n",
    "\t\treturn TP, FP, TN, FN\n",
    "\n",
    "\tdef accuracy(self, y_true, y_pred):\n",
    "\t\t#补全该方法\n",
    "\t\tself.check_size_and_value(y_true, y_pred)\n",
    "\t\tTP, FP, TN, FN = self.confusion_matrix(y_true, y_pred)\n",
    "\t\treturn (TP + TN) / (TP + FP + TN + FN)\n",
    "\n",
    "\t#补全该方法\n",
    "\n",
    "\tdef precision(self, y_true, y_pred):\n",
    "\t\t#补全该方法\n",
    "\t\tself.check_size_and_value(y_true, y_pred)\n",
    "\t\tTP, FP, TN, FN = self.confusion_matrix(y_true, y_pred)\n",
    "\t\tif TP + FP == 0:\n",
    "\t\t\treturn 0\n",
    "\t\telse:\n",
    "\t\t\treturn TP / (TP + FP)\n",
    "\n",
    "\tdef recall(self, y_true, y_pred):\n",
    "\t\t#补全该方法\n",
    "\t\tself.check_size_and_value(y_true, y_pred)\n",
    "\t\tTP, FP, TN, FN = self.confusion_matrix(y_true, y_pred)\n",
    "\t\tif TP + FN == 0:\n",
    "\t\t\treturn 0\n",
    "\t\telse:\n",
    "\t\t\treturn TP / (TP + FN)\n",
    "\n",
    "\tdef f1(self, y_true, y_pred):\n",
    "\t\t#补全该方法\n",
    "\t\tself.check_size_and_value(y_true, y_pred)\n",
    "\t\tTP, FP, TN, FN = self.confusion_matrix(y_true, y_pred)\n",
    "\t\tif TP + FP == 0 or TP + FN == 0:\n",
    "\t\t\treturn 0\n",
    "\t\telse:\n",
    "\t\t\treturn 2 * TP / (2 * TP + FP + FN)\n",
    "\n",
    "\t#补全该方法\n",
    "\n",
    "\tdef check_size_and_value(self, y_true, y_pred):\n",
    "\t\tif y_true.shape != y_pred.shape:\n",
    "\t\t\traise ValueError(\"y_true and y_pred must have the same shape\")\n",
    "\t\tif not np.all(np.isin(y_true, [0, 1])):\n",
    "\t\t\traise ValueError(\"y_true must only contain 0s and 1s\")\n",
    "\t\tif not np.all(np.isin(y_pred, [0, 1])):\n",
    "\t\t\traise ValueError(\"y_pred must only contain 0s and 1s\")\n",
    "\n"
   ],
   "outputs": [],
   "execution_count": 4
  },
  {
   "cell_type": "code",
   "id": "002bbadc-f513-431a-8acb-a13c6f21ec0c",
   "metadata": {
    "ExecuteTime": {
     "end_time": "2025-05-12T11:43:54.211381Z",
     "start_time": "2025-05-12T11:43:54.206184Z"
    }
   },
   "source": [
    "y_true = np.array([0, 1, 1, 0, 1, 1, 0, 0, 0, 0])\n",
    "y_pred = np.array([1, 1, 0, 1, 1, 1, 0, 0, 0, 0])\n",
    "metrics = EvaluationMetrics()\n",
    "\n",
    "print(\"accuracy: {}\".format(metrics.accuracy(y_true, y_pred)))\n",
    "print(\"precision: {}\".format(metrics.precision(y_true, y_pred)))\n",
    "print(\"recall: {}\".format(metrics.recall(y_true, y_pred)))\n",
    "print(\"f1: {}\".format(metrics.f1(y_true, y_pred)))\n"
   ],
   "outputs": [
    {
     "name": "stdout",
     "output_type": "stream",
     "text": [
      "accuracy: 0.7\n",
      "precision: 0.6\n",
      "recall: 0.75\n",
      "f1: 0.6666666666666666\n"
     ]
    }
   ],
   "execution_count": 5
  },
  {
   "cell_type": "code",
   "id": "7d016a60-261f-42cb-a1c1-51b9892b4b8a",
   "metadata": {
    "ExecuteTime": {
     "end_time": "2025-05-12T11:43:54.232887Z",
     "start_time": "2025-05-12T11:43:54.228867Z"
    }
   },
   "source": [
    "tp, fp, tn, fn = metrics.confusion_matrix(y_true, y_pred)\n",
    "print(\"\\t预测为正\\t预测为负\")\n",
    "print(\"标注为正\\t{}\\t{}\".format(tp, fn))\n",
    "print(\"标注为负\\t{}\\t{}\".format(fp, tn))"
   ],
   "outputs": [
    {
     "name": "stdout",
     "output_type": "stream",
     "text": [
      "\t预测为正\t预测为负\n",
      "标注为正\t3\t1\n",
      "标注为负\t2\t4\n"
     ]
    }
   ],
   "execution_count": 6
  },
  {
   "cell_type": "code",
   "id": "82cced1d-0108-42e9-887d-52bbe2c599eb",
   "metadata": {
    "ExecuteTime": {
     "end_time": "2025-05-12T11:43:54.244679Z",
     "start_time": "2025-05-12T11:43:54.242479Z"
    }
   },
   "source": [],
   "outputs": [],
   "execution_count": null
  }
 ],
 "metadata": {
  "kernelspec": {
   "display_name": "Python 3 (ipykernel)",
   "language": "python",
   "name": "python3"
  },
  "language_info": {
   "codemirror_mode": {
    "name": "ipython",
    "version": 3
   },
   "file_extension": ".py",
   "mimetype": "text/x-python",
   "name": "python",
   "nbconvert_exporter": "python",
   "pygments_lexer": "ipython3",
   "version": "3.11.3"
  }
 },
 "nbformat": 4,
 "nbformat_minor": 5
}
