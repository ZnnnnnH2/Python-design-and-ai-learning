{
 "cells": [
  {
   "cell_type": "code",
   "id": "e83eccc3-65d3-4329-8f41-8fc6f011d775",
   "metadata": {
    "ExecuteTime": {
     "end_time": "2025-05-12T07:27:09.930378Z",
     "start_time": "2025-05-12T07:27:05.530295Z"
    }
   },
   "source": [
    "import torch\n",
    "import torch.nn as nn\n",
    "import numpy as np\n",
    "import matplotlib.pyplot as plt\n",
    "import os\n",
    "\n",
    "%matplotlib inline"
   ],
   "outputs": [],
   "execution_count": 1
  },
  {
   "cell_type": "code",
   "id": "8756e0ce-4c55-4b93-8a42-c732c8a61a20",
   "metadata": {
    "ExecuteTime": {
     "end_time": "2025-05-12T07:27:10.299237Z",
     "start_time": "2025-05-12T07:27:10.288945Z"
    }
   },
   "source": [
    "#使用Pytorch，通过继承nn.Module类，实现自己的机器学习（线性回归）模型\n",
    "class LinearRegression(nn.Module):\n",
    "    def __init__(self, in_dim): #构造函数，需要调用nn.Mudule的构造函数\n",
    "        super().__init__()       #等价于nn.Module.__init__()\n",
    "        self.w = nn.Parameter(torch.randn(in_dim+1, 1))\n",
    "\n",
    "    def forward(self, x):\n",
    "        x = torch.cat([x, torch.ones((x.shape[0],1))], dim=1)\n",
    "        x = x.matmul(self.w)\n",
    "        return x\n",
    "    \n",
    "def testLRmodel(in_dim, data_size = 2):\n",
    "    layer = LinearRegression(in_dim)\n",
    "    input=torch.randn(data_size,in_dim)\n",
    "    output=layer(input)  #前向传播 执行forward()\n",
    "    print(output)\n",
    "    for parameter in layer.parameters():\n",
    "        print(parameter)"
   ],
   "outputs": [],
   "execution_count": 2
  },
  {
   "cell_type": "code",
   "id": "d9d0b75e-4543-4ca1-9daf-ab8046d40e71",
   "metadata": {
    "ExecuteTime": {
     "end_time": "2025-05-12T07:27:10.345234Z",
     "start_time": "2025-05-12T07:27:10.321874Z"
    }
   },
   "source": [
    "# 模型验证\n",
    "testLRmodel(3)"
   ],
   "outputs": [
    {
     "name": "stdout",
     "output_type": "stream",
     "text": [
      "tensor([[-1.4110],\n",
      "        [ 1.2127]], grad_fn=<MmBackward0>)\n",
      "Parameter containing:\n",
      "tensor([[ 2.1745],\n",
      "        [ 1.4201],\n",
      "        [-1.3832],\n",
      "        [ 0.6722]], requires_grad=True)\n"
     ]
    }
   ],
   "execution_count": 3
  },
  {
   "cell_type": "code",
   "id": "a4529b73-5f77-4103-8ecd-aa99fb487db7",
   "metadata": {
    "ExecuteTime": {
     "end_time": "2025-05-12T07:27:10.413491Z",
     "start_time": "2025-05-12T07:27:10.399706Z"
    }
   },
   "source": [
    "#定义包含train和test两个方法的线性的类，用于完成训练和测试\n",
    "class Linear_Model():\n",
    "    def __init__(self, in_dim):\n",
    "        \"\"\"\n",
    "        创建模型和优化器，初始化线性模型和优化器超参数\n",
    "        \"\"\"       \n",
    "        self.learning_rate = 0.01\n",
    "        self.epoches = 10000        \n",
    "        self.model = LinearRegression(in_dim) #torch.nn.Linear(in_dim,1)\n",
    "        self.optimizer = torch.optim.SGD(self.model.parameters(), lr=self.learning_rate)\n",
    "        self.loss_function = torch.nn.MSELoss()\n",
    "    \n",
    "    def train(self, x, y):\n",
    "        \"\"\"\n",
    "        训练模型并保存参数\n",
    "        输入:\n",
    "            model_save_path: saved name of model\n",
    "            x: 训练数据\n",
    "            y: 回归真值\n",
    "        返回: \n",
    "            losses: 所有迭代中损失函数值\n",
    "        \"\"\"\n",
    "        losses = []\n",
    "        for epoch in range(self.epoches):\n",
    "            prediction = self.model(x)\n",
    "            loss = self.loss_function(prediction, y)           \n",
    "\n",
    "            self.optimizer.zero_grad()\n",
    "            loss.backward()\n",
    "            self.optimizer.step()\n",
    "\n",
    "            losses.append(loss.item())\n",
    "\n",
    "            if epoch % 500 == 0:\n",
    "                print(\"epoch: {}, loss is: {}\".format(epoch, loss.item()))\n",
    "\n",
    "        if x.shape[1]==1:\n",
    "            plt.figure()\n",
    "            plt.scatter(x.numpy(), y.numpy())\n",
    "            plt.plot(x.numpy(), prediction.numpy(), color=\"r\")\n",
    "            plt.show()\n",
    "\n",
    "        return losses\n",
    "      \n",
    "        \n",
    "    def test(self, x, y, if_plot = True):\n",
    "        \"\"\"\n",
    "        用保存或训练好的模型做测试\n",
    "        输入:\n",
    "            model_path: 训练好的模型的保存路径, e.g., \"linear.pth\"\n",
    "            x: 测试数据\n",
    "            y: 测试数据的回归真值\n",
    "        返回:\n",
    "            prediction: 测试数据的预测值\n",
    "        \"\"\"\n",
    "        prediction = self.model(x)\n",
    "        testMSE = self.loss_function(prediction, y)\n",
    "        \n",
    "        if if_plot and x.shape[1]==1:\n",
    "            plt.figure()\n",
    "            plt.scatter(x.numpy(), y.numpy())\n",
    "            plt.plot(x.numpy(), prediction.numpy(), color=\"r\")\n",
    "            plt.show()\n",
    "\n",
    "        return prediction, testMSE"
   ],
   "outputs": [],
   "execution_count": 4
  },
  {
   "cell_type": "code",
   "id": "10974770-097f-469e-8060-e8b395cc7456",
   "metadata": {
    "ExecuteTime": {
     "end_time": "2025-05-12T07:27:10.450106Z",
     "start_time": "2025-05-12T07:27:10.436079Z"
    }
   },
   "source": [
    "#生成数据\n",
    "def create_linear_data(data_size, in_dim, if_plot = True):\n",
    "    \"\"\"\n",
    "    为线性模型生成数据\n",
    "    输入:\n",
    "        data_size: 样本数量\n",
    "    返回:\n",
    "        x_train: 训练数据\n",
    "        y_train: 训练数据回归真值\n",
    "        x_test: 测试数据\n",
    "        y_test: 测试数据回归真值\n",
    "    \"\"\"\n",
    "    np.random.seed(426)\n",
    "    torch.manual_seed(426)\n",
    "    torch.cuda.manual_seed(426)\n",
    "\n",
    "    x = torch.Tensor(data_size, in_dim).uniform_(1,10)\n",
    "    map_true = torch.Tensor(in_dim, 1).uniform_(-5,5)\n",
    "    #map_true = torch.tensor([[1.5],[-5.],[3.]], dtype=torch.float32)\n",
    "    print('w真值:{}'.format(map_true))\n",
    "\n",
    "    y = x.mm(map_true) + 10. + torch.FloatTensor(data_size, 1).normal_(0,10) #torch.randn(x.size())\n",
    "\n",
    "    shuffled_index = np.random.permutation(data_size)\n",
    "    shuffled_index = torch.from_numpy(shuffled_index).long()\n",
    "    x = x[shuffled_index]\n",
    "    y = y[shuffled_index]\n",
    "    split_index = int(data_size * 0.7)\n",
    "    x_train = x[:split_index]\n",
    "    y_train = y[:split_index]\n",
    "    x_test = x[split_index:]\n",
    "    y_test = y[split_index:]\n",
    "    \n",
    "    if if_plot and in_dim==1:\n",
    "        plt.figure()\n",
    "        plt.scatter(x_train.numpy(),y_train.numpy())\n",
    "        plt.show()\n",
    "    return x_train, y_train, x_test, y_test"
   ],
   "outputs": [],
   "execution_count": 5
  },
  {
   "cell_type": "code",
   "id": "f2dbc7ef-8e1f-41fe-b973-ff5f9fe24ed3",
   "metadata": {
    "ExecuteTime": {
     "end_time": "2025-05-12T07:27:10.474476Z",
     "start_time": "2025-05-12T07:27:10.470478Z"
    }
   },
   "source": [],
   "outputs": [],
   "execution_count": null
  }
 ],
 "metadata": {
  "kernelspec": {
   "display_name": "Python 3 (ipykernel)",
   "language": "python",
   "name": "python3"
  },
  "language_info": {
   "codemirror_mode": {
    "name": "ipython",
    "version": 3
   },
   "file_extension": ".py",
   "mimetype": "text/x-python",
   "name": "python",
   "nbconvert_exporter": "python",
   "pygments_lexer": "ipython3",
   "version": "3.11.3"
  }
 },
 "nbformat": 4,
 "nbformat_minor": 5
}
