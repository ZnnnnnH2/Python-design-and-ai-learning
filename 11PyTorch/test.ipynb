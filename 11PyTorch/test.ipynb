{
 "cells": [
  {
   "cell_type": "code",
   "id": "initial_id",
   "metadata": {
    "collapsed": true,
    "ExecuteTime": {
     "end_time": "2025-05-12T06:23:37.152197Z",
     "start_time": "2025-05-12T06:23:37.148229Z"
    }
   },
   "source": [
    "%%time\n",
    "import torch\n",
    "\n",
    "x = torch.tensor([[1, 2], [3, 4]], dtype=torch.float32)\n",
    "y = torch.tensor([[5, 6], [7, 8]], dtype=torch.float32)"
   ],
   "outputs": [
    {
     "name": "stdout",
     "output_type": "stream",
     "text": [
      "CPU times: total: 0 ns\n",
      "Wall time: 0 ns\n"
     ]
    }
   ],
   "execution_count": 57
  },
  {
   "metadata": {
    "ExecuteTime": {
     "end_time": "2025-05-12T06:23:42.149627Z",
     "start_time": "2025-05-12T06:23:41.988923Z"
    }
   },
   "cell_type": "code",
   "source": [
    "%%time\n",
    "# x = x.cuda()\n",
    "# y = y.cuda()\n",
    "# z = x.cuda()\n",
    "for i in range(1,100000):\n",
    "    x = x @ y\n",
    "\n",
    "print(x)"
   ],
   "id": "509add149aac16f9",
   "outputs": [
    {
     "name": "stdout",
     "output_type": "stream",
     "text": [
      "tensor([[inf, inf],\n",
      "        [inf, inf]])\n",
      "CPU times: total: 156 ms\n",
      "Wall time: 157 ms\n"
     ]
    }
   ],
   "execution_count": 58
  },
  {
   "metadata": {
    "ExecuteTime": {
     "end_time": "2025-05-12T06:22:58.855423Z",
     "start_time": "2025-05-12T06:22:58.850378Z"
    }
   },
   "cell_type": "code",
   "source": [
    "x = torch.tensor(1.0,requires_grad=True)\n",
    "y = torch.clamp_min(x,0)\n",
    "y.backward()\n",
    "print(x.grad)"
   ],
   "id": "570e1b35b288a35",
   "outputs": [
    {
     "name": "stdout",
     "output_type": "stream",
     "text": [
      "tensor(1.)\n"
     ]
    }
   ],
   "execution_count": 47
  },
  {
   "metadata": {
    "ExecuteTime": {
     "end_time": "2025-05-12T06:22:58.894462Z",
     "start_time": "2025-05-12T06:22:58.890303Z"
    }
   },
   "cell_type": "code",
   "source": [
    "x = torch.tensor(0.0,requires_grad=True)\n",
    "y = torch.tensor(2.0,requires_grad=True)\n",
    "z = torch.tensor(5.0,requires_grad=True)\n",
    "w = torch.log(torch.exp(x) + torch.exp(y) + torch.exp(z))\n",
    "w.backward()\n",
    "\n",
    "print(x.grad)\n",
    "print(y.grad)\n",
    "print(z.grad)"
   ],
   "id": "75ffd1507a80bcd5",
   "outputs": [
    {
     "name": "stdout",
     "output_type": "stream",
     "text": [
      "tensor(0.0064)\n",
      "tensor(0.0471)\n",
      "tensor(0.9465)\n"
     ]
    }
   ],
   "execution_count": 48
  },
  {
   "metadata": {
    "ExecuteTime": {
     "end_time": "2025-05-12T06:22:58.905659Z",
     "start_time": "2025-05-12T06:22:58.901743Z"
    }
   },
   "cell_type": "code",
   "source": [
    "x = torch.tensor([[1.0, 2.0]], requires_grad=True)\n",
    "y = torch.tensor([[3.0, 4.0]], requires_grad=True)\n",
    "A = torch.tensor([[1.0, 1.0],\n",
    "                  [1.0, 2.0]])\n",
    "b = torch.tensor([[1.0, 0.0]])\n",
    "\n",
    "f = x@A@y.t() + x@b.t()\n",
    "f.backward()\n",
    "print(x.grad)\n",
    "print(y.grad)"
   ],
   "id": "3f858d632fbd22a6",
   "outputs": [
    {
     "name": "stdout",
     "output_type": "stream",
     "text": [
      "tensor([[ 8., 11.]])\n",
      "tensor([[3., 5.]])\n"
     ]
    }
   ],
   "execution_count": 49
  },
  {
   "metadata": {
    "ExecuteTime": {
     "end_time": "2025-05-12T06:22:58.917388Z",
     "start_time": "2025-05-12T06:22:58.913372Z"
    }
   },
   "cell_type": "code",
   "source": [
    "print(x.shape)\n",
    "z = torch.tensor([1.0,2.0], requires_grad=True)\n",
    "print(z.shape)"
   ],
   "id": "9cab05c7877022c2",
   "outputs": [
    {
     "name": "stdout",
     "output_type": "stream",
     "text": [
      "torch.Size([1, 2])\n",
      "torch.Size([2])\n"
     ]
    }
   ],
   "execution_count": 50
  }
 ],
 "metadata": {
  "kernelspec": {
   "display_name": "Python 3",
   "language": "python",
   "name": "python3"
  },
  "language_info": {
   "codemirror_mode": {
    "name": "ipython",
    "version": 2
   },
   "file_extension": ".py",
   "mimetype": "text/x-python",
   "name": "python",
   "nbconvert_exporter": "python",
   "pygments_lexer": "ipython2",
   "version": "2.7.6"
  }
 },
 "nbformat": 4,
 "nbformat_minor": 5
}
